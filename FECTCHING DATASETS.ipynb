{
 "cells": [
  {
   "cell_type": "markdown",
   "id": "e224a9da",
   "metadata": {},
   "source": [
    "## FETCHING THE DATASETS\n",
    "\n",
    "\n",
    "### 1) The fisrt 6 datasets from one drive\n",
    "\n",
    "### 2) The second 6th datasets from remote database"
   ]
  },
  {
   "cell_type": "code",
   "execution_count": 1,
   "id": "f576a85b",
   "metadata": {},
   "outputs": [],
   "source": [
    "# Importing Libraries\n",
    "\n",
    "#!pip install pyodbc\n",
    "\n",
    "import pyodbc #just installed with pip \n",
    "\n",
    "from dotenv import dotenv_values \n",
    "\n",
    "#import os\n",
    "\n",
    "import pandas as pd \n",
    "import numpy as np\n",
    "\n",
    "import warnings \n",
    "warnings.filterwarnings('ignore')"
   ]
  },
  {
   "cell_type": "code",
   "execution_count": 2,
   "id": "454b7661",
   "metadata": {},
   "outputs": [],
   "source": [
    "# Second dataset downloading from Remote Database\n",
    "\n",
    "# Database Credentials:\n",
    "\n",
    "server = 'dap-projects-database.database.windows.net'\n",
    "username = 'capstone'\n",
    "password = 'Z7x@8pM$2w'\n",
    "database = 'dapDB'"
   ]
  },
  {
   "cell_type": "code",
   "execution_count": 3,
   "id": "5c355366",
   "metadata": {},
   "outputs": [],
   "source": [
    "# Connecting to the database using pyodbc\n",
    "\n",
    "connection_string = (\"Driver={SQL Server};\"\n",
    "            \"Server=dap-projects-database.database.windows.net;\"\n",
    "            \"Database=dapDB;\"\n",
    "            \"UID=capstone;\"\n",
    "            \"PWD=Z7x@8pM$2w;\")\n",
    "\n",
    "connection = pyodbc.connect(connection_string)"
   ]
  },
  {
   "cell_type": "code",
   "execution_count": 4,
   "id": "481c0981",
   "metadata": {},
   "outputs": [],
   "source": [
    "# querying the required data from the database\n",
    "\n",
    "query1 =\"Select * from Sales_July_2019\"\n",
    "\n",
    "query2 =\"Select * from Sales_August_2019\"\n",
    "\n",
    "query3 =\"Select * from Sales_September_2019\"\n",
    "\n",
    "query4 =\"Select * from Sales_October_2019\"\n",
    "\n",
    "query5 =\"Select * from Sales_November_2019\"\n",
    "\n",
    "query6 =\"Select * from Sales_December_2019\""
   ]
  },
  {
   "cell_type": "code",
   "execution_count": 5,
   "id": "94161a1f",
   "metadata": {},
   "outputs": [],
   "source": [
    "# Putting the queried datasets in dataframe\n",
    "\n",
    "Sales_July_2019 = pd.read_sql(query1, connection)\n",
    "\n",
    "Sales_August_2019 = pd.read_sql(query2, connection)\n",
    "\n",
    "Sales_September_2019 = pd.read_sql(query3, connection)\n",
    "\n",
    "Sales_October_2019 = pd.read_sql(query4, connection)\n",
    "\n",
    "Sales_November_2019 = pd.read_sql(query5, connection)\n",
    "\n",
    "Sales_December_2019 = pd.read_sql(query5, connection)"
   ]
  },
  {
   "cell_type": "code",
   "execution_count": 6,
   "id": "56665eac",
   "metadata": {},
   "outputs": [],
   "source": [
    "# Saving the fetched datasets to local machine\n",
    "\n",
    "Sales_July_2019.to_csv('Sales_July_2019.csv')\n",
    "\n",
    "Sales_August_2019.to_csv('Sales_August_2019.csv')\n",
    "\n",
    "Sales_September_2019.to_csv('Sales_September_2019.csv')\n",
    "\n",
    "Sales_October_2019.to_csv('Sales_October_2019.csv')\n",
    "\n",
    "Sales_November_2019.to_csv('Sales_November_2019.csv')\n",
    "\n",
    "Sales_December_2019.to_csv('datasetSales_December_2019.csv')"
   ]
  }
 ],
 "metadata": {
  "kernelspec": {
   "display_name": "Python 3 (ipykernel)",
   "language": "python",
   "name": "python3"
  },
  "language_info": {
   "codemirror_mode": {
    "name": "ipython",
    "version": 3
   },
   "file_extension": ".py",
   "mimetype": "text/x-python",
   "name": "python",
   "nbconvert_exporter": "python",
   "pygments_lexer": "ipython3",
   "version": "3.11.4"
  }
 },
 "nbformat": 4,
 "nbformat_minor": 5
}
