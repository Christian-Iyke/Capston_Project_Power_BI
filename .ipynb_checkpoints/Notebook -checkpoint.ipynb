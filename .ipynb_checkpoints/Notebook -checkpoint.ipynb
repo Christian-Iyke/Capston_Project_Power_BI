{
 "cells": [
  {
   "cell_type": "markdown",
   "metadata": {},
   "source": [
    "# POWER BI DASHBOARD CAPSTONE PROJECT"
   ]
  },
  {
   "cell_type": "markdown",
   "metadata": {},
   "source": [
    "## BUSINESS UNDERSTANDING\n",
    "\n",
    "\n",
    "You are assigned a client by getINNOtized to design and deliver an end-to-end business  intelligence solution. Your client has collected transactional data for the year 2019 but hasn’t been able to  put it to good use. The client hopes you can analyze the data and put together a report  to help them find opportunities to drive more sales and work more efficiently. \n",
    "\n",
    "### Client's Questions: \n",
    "\n",
    "1. How much money did we make this year? \n",
    "\n",
    "2. Can we identify any seasonality in the  sales? \n",
    "\n",
    "3. What are our best and worst-selling products? \n",
    "\n",
    "4. How do sales compare to previous months or weeks? \n",
    "\n",
    "5. Which cities are our products delivered to most? \n",
    "\n",
    "6. How do product categories compare in revenue generated and quantities  ordered? \n",
    "\n",
    "7. You are required to show additional details from your findings in your data.\n",
    "\n",
    "NB: Products with unit prices above $99.99 should be labelled high-level products  otherwise they should be basic level."
   ]
  },
  {
   "cell_type": "markdown",
   "metadata": {},
   "source": [
    "## DATA UNDERSTANDING"
   ]
  },
  {
   "cell_type": "code",
   "execution_count": 124,
   "metadata": {},
   "outputs": [],
   "source": [
    "# Imports\n",
    "import pandas as pd\n",
    "import numpy as np\n",
    "\n",
    "import matplotlib.pyplot as plt\n",
    "import seaborn as sns\n",
    "import plotly.express as px\n",
    "from matplotlib.ticker import ScalarFormatter"
   ]
  },
  {
   "cell_type": "code",
   "execution_count": 2,
   "metadata": {},
   "outputs": [],
   "source": [
    "# Load the 12 months of data \n",
    "jan = pd.read_csv('Sales_January_2019.csv') \n",
    "feb = pd.read_csv('Sales_February_2019.csv')\n",
    "mar = pd.read_csv('Sales_March_2019.csv')\n",
    "apr = pd.read_csv('Sales_April_2019.csv')\n",
    "may = pd.read_csv('Sales_May_2019.csv')\n",
    "jun = pd.read_csv('Sales_June_2019.csv')\n",
    "jul = pd.read_csv('Sales_July_2019.csv')\n",
    "aug = pd.read_csv('Sales_August_2019.csv')\n",
    "sep = pd.read_csv('Sales_September_2019.csv')\n",
    "octo = pd.read_csv('Sales_October_2019.csv')\n",
    "nov = pd.read_csv('Sales_November_2019.csv')\n",
    "dec = pd.read_csv('Sales_December_2019.csv')\n",
    "\n",
    "months =[jan, feb, mar, apr, may, jun, jul, aug, sep, octo, nov, dec]"
   ]
  },
  {
   "cell_type": "markdown",
   "metadata": {},
   "source": [
    "#### Go through dataframes month by month\n"
   ]
  },
  {
   "cell_type": "code",
   "execution_count": 3,
   "metadata": {},
   "outputs": [
    {
     "name": "stdout",
     "output_type": "stream",
     "text": [
      "<class 'pandas.core.frame.DataFrame'>\n",
      "RangeIndex: 9723 entries, 0 to 9722\n",
      "Data columns (total 6 columns):\n",
      " #   Column            Non-Null Count  Dtype \n",
      "---  ------            --------------  ----- \n",
      " 0   Order ID          9697 non-null   object\n",
      " 1   Product           9697 non-null   object\n",
      " 2   Quantity Ordered  9697 non-null   object\n",
      " 3   Price Each        9697 non-null   object\n",
      " 4   Order Date        9697 non-null   object\n",
      " 5   Purchase Address  9697 non-null   object\n",
      "dtypes: object(6)\n",
      "memory usage: 455.9+ KB\n",
      "<class 'pandas.core.frame.DataFrame'>\n",
      "RangeIndex: 12036 entries, 0 to 12035\n",
      "Data columns (total 6 columns):\n",
      " #   Column            Non-Null Count  Dtype \n",
      "---  ------            --------------  ----- \n",
      " 0   Order ID          12004 non-null  object\n",
      " 1   Product           12004 non-null  object\n",
      " 2   Quantity Ordered  12004 non-null  object\n",
      " 3   Price Each        12004 non-null  object\n",
      " 4   Order Date        12004 non-null  object\n",
      " 5   Purchase Address  12004 non-null  object\n",
      "dtypes: object(6)\n",
      "memory usage: 564.3+ KB\n",
      "<class 'pandas.core.frame.DataFrame'>\n",
      "RangeIndex: 15226 entries, 0 to 15225\n",
      "Data columns (total 6 columns):\n",
      " #   Column            Non-Null Count  Dtype \n",
      "---  ------            --------------  ----- \n",
      " 0   Order ID          15189 non-null  object\n",
      " 1   Product           15189 non-null  object\n",
      " 2   Quantity Ordered  15189 non-null  object\n",
      " 3   Price Each        15189 non-null  object\n",
      " 4   Order Date        15189 non-null  object\n",
      " 5   Purchase Address  15189 non-null  object\n",
      "dtypes: object(6)\n",
      "memory usage: 713.8+ KB\n",
      "<class 'pandas.core.frame.DataFrame'>\n",
      "RangeIndex: 18383 entries, 0 to 18382\n",
      "Data columns (total 6 columns):\n",
      " #   Column            Non-Null Count  Dtype \n",
      "---  ------            --------------  ----- \n",
      " 0   Order ID          18324 non-null  object\n",
      " 1   Product           18324 non-null  object\n",
      " 2   Quantity Ordered  18324 non-null  object\n",
      " 3   Price Each        18324 non-null  object\n",
      " 4   Order Date        18324 non-null  object\n",
      " 5   Purchase Address  18324 non-null  object\n",
      "dtypes: object(6)\n",
      "memory usage: 861.8+ KB\n",
      "<class 'pandas.core.frame.DataFrame'>\n",
      "RangeIndex: 16635 entries, 0 to 16634\n",
      "Data columns (total 6 columns):\n",
      " #   Column            Non-Null Count  Dtype \n",
      "---  ------            --------------  ----- \n",
      " 0   Order ID          16587 non-null  object\n",
      " 1   Product           16587 non-null  object\n",
      " 2   Quantity Ordered  16587 non-null  object\n",
      " 3   Price Each        16587 non-null  object\n",
      " 4   Order Date        16587 non-null  object\n",
      " 5   Purchase Address  16587 non-null  object\n",
      "dtypes: object(6)\n",
      "memory usage: 779.9+ KB\n",
      "<class 'pandas.core.frame.DataFrame'>\n",
      "RangeIndex: 13622 entries, 0 to 13621\n",
      "Data columns (total 6 columns):\n",
      " #   Column            Non-Null Count  Dtype \n",
      "---  ------            --------------  ----- \n",
      " 0   Order ID          13579 non-null  object\n",
      " 1   Product           13579 non-null  object\n",
      " 2   Quantity Ordered  13579 non-null  object\n",
      " 3   Price Each        13579 non-null  object\n",
      " 4   Order Date        13579 non-null  object\n",
      " 5   Purchase Address  13579 non-null  object\n",
      "dtypes: object(6)\n",
      "memory usage: 638.7+ KB\n",
      "<class 'pandas.core.frame.DataFrame'>\n",
      "RangeIndex: 14371 entries, 0 to 14370\n",
      "Data columns (total 7 columns):\n",
      " #   Column            Non-Null Count  Dtype  \n",
      "---  ------            --------------  -----  \n",
      " 0   Unnamed: 0        14371 non-null  int64  \n",
      " 1   Order_ID          14291 non-null  float64\n",
      " 2   Product           14326 non-null  object \n",
      " 3   Quantity_Ordered  14291 non-null  float64\n",
      " 4   Price_Each        14291 non-null  float64\n",
      " 5   Order_Date        14291 non-null  object \n",
      " 6   Purchase_Address  14326 non-null  object \n",
      "dtypes: float64(3), int64(1), object(3)\n",
      "memory usage: 786.0+ KB\n",
      "<class 'pandas.core.frame.DataFrame'>\n",
      "RangeIndex: 12011 entries, 0 to 12010\n",
      "Data columns (total 7 columns):\n",
      " #   Column            Non-Null Count  Dtype  \n",
      "---  ------            --------------  -----  \n",
      " 0   Unnamed: 0        12011 non-null  int64  \n",
      " 1   Order_ID          11957 non-null  float64\n",
      " 2   Product           11983 non-null  object \n",
      " 3   Quantity_Ordered  11957 non-null  float64\n",
      " 4   Price_Each        11957 non-null  float64\n",
      " 5   Order_Date        11957 non-null  object \n",
      " 6   Purchase_Address  11983 non-null  object \n",
      "dtypes: float64(3), int64(1), object(3)\n",
      "memory usage: 657.0+ KB\n",
      "<class 'pandas.core.frame.DataFrame'>\n",
      "RangeIndex: 11686 entries, 0 to 11685\n",
      "Data columns (total 7 columns):\n",
      " #   Column            Non-Null Count  Dtype  \n",
      "---  ------            --------------  -----  \n",
      " 0   Unnamed: 0        11686 non-null  int64  \n",
      " 1   Order_ID          11629 non-null  float64\n",
      " 2   Product           11646 non-null  object \n",
      " 3   Quantity_Ordered  11629 non-null  float64\n",
      " 4   Price_Each        11629 non-null  float64\n",
      " 5   Order_Date        11629 non-null  object \n",
      " 6   Purchase_Address  11646 non-null  object \n",
      "dtypes: float64(3), int64(1), object(3)\n",
      "memory usage: 639.2+ KB\n",
      "<class 'pandas.core.frame.DataFrame'>\n",
      "RangeIndex: 20379 entries, 0 to 20378\n",
      "Data columns (total 7 columns):\n",
      " #   Column            Non-Null Count  Dtype  \n",
      "---  ------            --------------  -----  \n",
      " 0   Unnamed: 0        20379 non-null  int64  \n",
      " 1   Order_ID          20284 non-null  float64\n",
      " 2   Product           20317 non-null  object \n",
      " 3   Quantity_Ordered  20284 non-null  float64\n",
      " 4   Price_Each        20284 non-null  float64\n",
      " 5   Order_Date        20284 non-null  object \n",
      " 6   Purchase_Address  20317 non-null  object \n",
      "dtypes: float64(3), int64(1), object(3)\n",
      "memory usage: 1.1+ MB\n",
      "<class 'pandas.core.frame.DataFrame'>\n",
      "RangeIndex: 17661 entries, 0 to 17660\n",
      "Data columns (total 7 columns):\n",
      " #   Column            Non-Null Count  Dtype  \n",
      "---  ------            --------------  -----  \n",
      " 0   Unnamed: 0        17661 non-null  int64  \n",
      " 1   Order_ID          17580 non-null  float64\n",
      " 2   Product           17616 non-null  object \n",
      " 3   Quantity_Ordered  17580 non-null  float64\n",
      " 4   Price_Each        17580 non-null  float64\n",
      " 5   Order_Date        17580 non-null  object \n",
      " 6   Purchase_Address  17616 non-null  object \n",
      "dtypes: float64(3), int64(1), object(3)\n",
      "memory usage: 966.0+ KB\n",
      "<class 'pandas.core.frame.DataFrame'>\n",
      "RangeIndex: 17661 entries, 0 to 17660\n",
      "Data columns (total 7 columns):\n",
      " #   Column            Non-Null Count  Dtype  \n",
      "---  ------            --------------  -----  \n",
      " 0   Unnamed: 0        17661 non-null  int64  \n",
      " 1   Order_ID          17580 non-null  float64\n",
      " 2   Product           17616 non-null  object \n",
      " 3   Quantity_Ordered  17580 non-null  float64\n",
      " 4   Price_Each        17580 non-null  float64\n",
      " 5   Order_Date        17580 non-null  object \n",
      " 6   Purchase_Address  17616 non-null  object \n",
      "dtypes: float64(3), int64(1), object(3)\n",
      "memory usage: 966.0+ KB\n"
     ]
    }
   ],
   "source": [
    "# Get info on all the datasets \n",
    "for month in months:\n",
    "    month.info()"
   ]
  },
  {
   "cell_type": "code",
   "execution_count": 4,
   "metadata": {},
   "outputs": [
    {
     "name": "stdout",
     "output_type": "stream",
     "text": [
      "  Order ID                   Product Quantity Ordered Price Each  \\\n",
      "0   141234                    iPhone                1        700   \n",
      "1   141235  Lightning Charging Cable                1      14.95   \n",
      "2   141236          Wired Headphones                2      11.99   \n",
      "3   141237          27in FHD Monitor                1     149.99   \n",
      "4   141238          Wired Headphones                1      11.99   \n",
      "\n",
      "       Order Date                       Purchase Address  \n",
      "0  01/22/19 21:25        944 Walnut St, Boston, MA 02215  \n",
      "1  01/28/19 14:15       185 Maple St, Portland, OR 97035  \n",
      "2  01/17/19 13:33  538 Adams St, San Francisco, CA 94016  \n",
      "3  01/05/19 20:33     738 10th St, Los Angeles, CA 90001  \n",
      "4  01/25/19 11:59          387 10th St, Austin, TX 73301  \n",
      "  Order ID                   Product Quantity Ordered Price Each  \\\n",
      "0   150502                    iPhone                1        700   \n",
      "1   150503     AA Batteries (4-pack)                1       3.84   \n",
      "2   150504    27in 4K Gaming Monitor                1     389.99   \n",
      "3   150505  Lightning Charging Cable                1      14.95   \n",
      "4   150506     AA Batteries (4-pack)                2       3.84   \n",
      "\n",
      "       Order Date                     Purchase Address  \n",
      "0  02/18/19 01:35    866 Spruce St, Portland, ME 04101  \n",
      "1  02/13/19 07:24  18 13th St, San Francisco, CA 94016  \n",
      "2  02/18/19 09:46   52 6th St, New York City, NY 10001  \n",
      "3  02/02/19 16:47     129 Cherry St, Atlanta, GA 30301  \n",
      "4  02/28/19 20:32    548 Lincoln St, Seattle, WA 98101  \n",
      "  Order ID                     Product Quantity Ordered Price Each  \\\n",
      "0   162009                      iPhone                1        700   \n",
      "1   162009    Lightning Charging Cable                1      14.95   \n",
      "2   162009            Wired Headphones                2      11.99   \n",
      "3   162010  Bose SoundSport Headphones                1      99.99   \n",
      "4   162011      34in Ultrawide Monitor                1     379.99   \n",
      "\n",
      "       Order Date                      Purchase Address  \n",
      "0  03/28/19 20:59       942 Church St, Austin, TX 73301  \n",
      "1  03/28/19 20:59       942 Church St, Austin, TX 73301  \n",
      "2  03/28/19 20:59       942 Church St, Austin, TX 73301  \n",
      "3  03/17/19 05:39  261 10th St, San Francisco, CA 94016  \n",
      "4  03/10/19 00:01  764 13th St, San Francisco, CA 94016  \n",
      "  Order ID                     Product Quantity Ordered Price Each  \\\n",
      "0   176558        USB-C Charging Cable                2      11.95   \n",
      "1      NaN                         NaN              NaN        NaN   \n",
      "2   176559  Bose SoundSport Headphones                1      99.99   \n",
      "3   176560                Google Phone                1        600   \n",
      "4   176560            Wired Headphones                1      11.99   \n",
      "\n",
      "       Order Date                      Purchase Address  \n",
      "0  04/19/19 08:46          917 1st St, Dallas, TX 75001  \n",
      "1             NaN                                   NaN  \n",
      "2  04/07/19 22:30     682 Chestnut St, Boston, MA 02215  \n",
      "3  04/12/19 14:38  669 Spruce St, Los Angeles, CA 90001  \n",
      "4  04/12/19 14:38  669 Spruce St, Los Angeles, CA 90001  \n",
      "  Order ID                 Product Quantity Ordered Price Each  \\\n",
      "0   194095        Wired Headphones                1      11.99   \n",
      "1   194096   AA Batteries (4-pack)                1       3.84   \n",
      "2   194097        27in FHD Monitor                1     149.99   \n",
      "3   194098        Wired Headphones                1      11.99   \n",
      "4   194099  AAA Batteries (4-pack)                2       2.99   \n",
      "\n",
      "       Order Date                         Purchase Address  \n",
      "0  05/16/19 17:14      669 2nd St, New York City, NY 10001  \n",
      "1  05/19/19 14:43          844 Walnut St, Dallas, TX 75001  \n",
      "2  05/24/19 11:36  164 Madison St, New York City, NY 10001  \n",
      "3  05/02/19 20:40          622 Meadow St, Dallas, TX 75001  \n",
      "4  05/11/19 22:55          17 Church St, Seattle, WA 98101  \n",
      "  Order ID                     Product Quantity Ordered Price Each  \\\n",
      "0   209921        USB-C Charging Cable                1      11.95   \n",
      "1   209922          Macbook Pro Laptop                1     1700.0   \n",
      "2   209923             ThinkPad Laptop                1     999.99   \n",
      "3   209924            27in FHD Monitor                1     149.99   \n",
      "4   209925  Bose SoundSport Headphones                1      99.99   \n",
      "\n",
      "       Order Date                       Purchase Address  \n",
      "0  06/23/19 19:34      950 Walnut St, Portland, ME 04101  \n",
      "1  06/30/19 10:05     80 4th St, San Francisco, CA 94016  \n",
      "2  06/24/19 20:18  402 Jackson St, Los Angeles, CA 90001  \n",
      "3  06/05/19 10:21         560 10th St, Seattle, WA 98101  \n",
      "4  06/25/19 18:58    545 2nd St, San Francisco, CA 94016  \n",
      "   Unnamed: 0  Order_ID                   Product  Quantity_Ordered  \\\n",
      "0           0  222910.0  Apple Airpods Headphones               1.0   \n",
      "1           1  222911.0             Flatscreen TV               1.0   \n",
      "2           2  222912.0     AA Batteries (4-pack)               1.0   \n",
      "3           3  222913.0     AA Batteries (4-pack)               1.0   \n",
      "4           4  222914.0    AAA Batteries (4-pack)               5.0   \n",
      "\n",
      "   Price_Each                   Order_Date                  Purchase_Address  \n",
      "0      150.00  2026-07-19 16:51:00.0000000   389 South St, Atlanta, GA 30301  \n",
      "1      300.00  2005-07-19 08:55:00.0000000     590 4th St, Seattle, WA 98101  \n",
      "2        3.84  2029-07-19 12:41:00.0000000    861 Hill St, Atlanta, GA 30301  \n",
      "3        3.84  2028-07-19 10:15:00.0000000   190 Ridge St, Atlanta, GA 30301  \n",
      "4        2.99  2031-07-19 02:13:00.0000000  824 Forest St, Seattle, WA 98101  \n",
      "   Unnamed: 0  Order_ID                     Product  Quantity_Ordered  \\\n",
      "0           0  236670.0            Wired Headphones               2.0   \n",
      "1           1  236671.0  Bose SoundSport Headphones               1.0   \n",
      "2           2  236672.0                      iPhone               1.0   \n",
      "3           3  236673.0       AA Batteries (4-pack)               2.0   \n",
      "4           4  236674.0       AA Batteries (4-pack)               2.0   \n",
      "\n",
      "   Price_Each                   Order_Date  \\\n",
      "0   11.990000  2031-08-19 22:21:00.0000000   \n",
      "1   99.989998  2015-08-19 15:11:00.0000000   \n",
      "2  700.000000  2006-08-19 14:40:00.0000000   \n",
      "3    3.840000  2029-08-19 20:59:00.0000000   \n",
      "4    3.840000  2015-08-19 19:53:00.0000000   \n",
      "\n",
      "                       Purchase_Address  \n",
      "0      359 Spruce St, Seattle, WA 98101  \n",
      "1        492 Ridge St, Dallas, TX 75001  \n",
      "2        149 7th St, Portland, OR 97035  \n",
      "3     631 2nd St, Los Angeles, CA 90001  \n",
      "4  736 14th St, New York City, NY 10001  \n",
      "   Unnamed: 0  Order_ID                Product  Quantity_Ordered  Price_Each  \\\n",
      "0           0  248151.0  AA Batteries (4-pack)               4.0    3.840000   \n",
      "1           1  248152.0   USB-C Charging Cable               2.0   11.950000   \n",
      "2           2  248153.0   USB-C Charging Cable               1.0   11.950000   \n",
      "3           3  248154.0       27in FHD Monitor               1.0  149.990005   \n",
      "4           4  248155.0   USB-C Charging Cable               1.0   11.950000   \n",
      "\n",
      "                    Order_Date                       Purchase_Address  \n",
      "0  2017-09-19 14:44:00.0000000    380 North St, Los Angeles, CA 90001  \n",
      "1  2029-09-19 10:19:00.0000000           511 8th St, Austin, TX 73301  \n",
      "2  2016-09-19 17:48:00.0000000  151 Johnson St, Los Angeles, CA 90001  \n",
      "3  2027-09-19 07:52:00.0000000      355 Hickory St, Seattle, WA 98101  \n",
      "4  2001-09-19 19:03:00.0000000          125 5th St, Atlanta, GA 30301  \n",
      "   Unnamed: 0  Order_ID                 Product  Quantity_Ordered  Price_Each  \\\n",
      "0           0  259358.0  34in Ultrawide Monitor               1.0  379.989990   \n",
      "1           1  259359.0  27in 4K Gaming Monitor               1.0  389.989990   \n",
      "2           2  259360.0  AAA Batteries (4-pack)               2.0    2.990000   \n",
      "3           3  259361.0        27in FHD Monitor               1.0  149.990005   \n",
      "4           4  259362.0        Wired Headphones               1.0   11.990000   \n",
      "\n",
      "                    Order_Date                           Purchase_Address  \n",
      "0  2028-10-19 10:56:00.0000000            609 Cherry St, Dallas, TX 75001  \n",
      "1  2028-10-19 17:26:00.0000000          225 5th St, Los Angeles, CA 90001  \n",
      "2  2024-10-19 17:20:00.0000000       967 12th St, New York City, NY 10001  \n",
      "3  2014-10-19 22:26:00.0000000  628 Jefferson St, New York City, NY 10001  \n",
      "4  2007-10-19 16:10:00.0000000         534 14th St, Los Angeles, CA 90001  \n",
      "   Unnamed: 0  Order_ID                     Product  Quantity_Ordered  \\\n",
      "0           0  278797.0            Wired Headphones               1.0   \n",
      "1           1  278798.0        USB-C Charging Cable               2.0   \n",
      "2           2  278799.0    Apple Airpods Headphones               1.0   \n",
      "3           3  278800.0            27in FHD Monitor               1.0   \n",
      "4           4  278801.0  Bose SoundSport Headphones               1.0   \n",
      "\n",
      "   Price_Each                   Order_Date  \\\n",
      "0   11.990000  2021-11-19 09:54:00.0000000   \n",
      "1   11.950000  2017-11-19 10:03:00.0000000   \n",
      "2  150.000000  2019-11-19 14:56:00.0000000   \n",
      "3  149.990005  2025-11-19 22:24:00.0000000   \n",
      "4   99.989998  2009-11-19 13:56:00.0000000   \n",
      "\n",
      "                       Purchase_Address  \n",
      "0   46 Park St, New York City, NY 10001  \n",
      "1      962 Hickory St, Austin, TX 73301  \n",
      "2  464 Cherry St, Los Angeles, CA 90001  \n",
      "3        649 10th St, Seattle, WA 98101  \n",
      "4         522 Hill St, Boston, MA 02215  \n",
      "   Unnamed: 0  Order_ID                     Product  Quantity_Ordered  \\\n",
      "0           0  278797.0            Wired Headphones               1.0   \n",
      "1           1  278798.0        USB-C Charging Cable               2.0   \n",
      "2           2  278799.0    Apple Airpods Headphones               1.0   \n",
      "3           3  278800.0            27in FHD Monitor               1.0   \n",
      "4           4  278801.0  Bose SoundSport Headphones               1.0   \n",
      "\n",
      "   Price_Each                   Order_Date  \\\n",
      "0   11.990000  2021-11-19 09:54:00.0000000   \n",
      "1   11.950000  2017-11-19 10:03:00.0000000   \n",
      "2  150.000000  2019-11-19 14:56:00.0000000   \n",
      "3  149.990005  2025-11-19 22:24:00.0000000   \n",
      "4   99.989998  2009-11-19 13:56:00.0000000   \n",
      "\n",
      "                       Purchase_Address  \n",
      "0   46 Park St, New York City, NY 10001  \n",
      "1      962 Hickory St, Austin, TX 73301  \n",
      "2  464 Cherry St, Los Angeles, CA 90001  \n",
      "3        649 10th St, Seattle, WA 98101  \n",
      "4         522 Hill St, Boston, MA 02215  \n"
     ]
    }
   ],
   "source": [
    "# check the first few rows for all the datasets\n",
    "for month in months:\n",
    "    print(month.head())"
   ]
  },
  {
   "cell_type": "code",
   "execution_count": 5,
   "metadata": {},
   "outputs": [
    {
     "name": "stdout",
     "output_type": "stream",
     "text": [
      "     Order ID                 Product Quantity Ordered Price Each  \\\n",
      "9718   150497            20in Monitor                1     109.99   \n",
      "9719   150498        27in FHD Monitor                1     149.99   \n",
      "9720   150499         ThinkPad Laptop                1     999.99   \n",
      "9721   150500  AAA Batteries (4-pack)                2       2.99   \n",
      "9722   150501            Google Phone                1        600   \n",
      "\n",
      "          Order Date                     Purchase Address  \n",
      "9718  01/26/19 19:09          95 8th St, Dallas, TX 75001  \n",
      "9719  01/10/19 22:58  403 7th St, San Francisco, CA 94016  \n",
      "9720  01/21/19 14:31      214 Main St, Portland, OR 97035  \n",
      "9721  01/15/19 14:21    810 2nd St, Los Angeles, CA 90001  \n",
      "9722  01/13/19 16:43       428 Cedar St, Boston, MA 02215  \n",
      "      Order ID                   Product Quantity Ordered Price Each  \\\n",
      "12031   162004  Apple Airpods Headphones                1        150   \n",
      "12032   162005    AAA Batteries (4-pack)                2       2.99   \n",
      "12033   162006      USB-C Charging Cable                1      11.95   \n",
      "12034   162007      USB-C Charging Cable                1      11.95   \n",
      "12035   162008          27in FHD Monitor                1     149.99   \n",
      "\n",
      "           Order Date                         Purchase Address  \n",
      "12031  02/12/19 22:02   227 Church St, San Francisco, CA 94016  \n",
      "12032  02/04/19 20:44  417 Jefferson St, Los Angeles, CA 90001  \n",
      "12033  02/24/19 06:31            498 8th St, Atlanta, GA 30301  \n",
      "12034  02/24/19 19:09             715 7th St, Dallas, TX 75001  \n",
      "12035  02/26/19 17:15       677 West St, Los Angeles, CA 90001  \n",
      "      Order ID                   Product Quantity Ordered Price Each  \\\n",
      "15221   176554  Lightning Charging Cable                1      14.95   \n",
      "15222   176555          27in FHD Monitor                1     149.99   \n",
      "15223   176556    AAA Batteries (4-pack)                3       2.99   \n",
      "15224   176557                    iPhone                1        700   \n",
      "15225   176557  Lightning Charging Cable                1      14.95   \n",
      "\n",
      "           Order Date                           Purchase Address  \n",
      "15221  03/24/19 11:14       672 12th St, San Francisco, CA 94016  \n",
      "15222  03/22/19 20:27         42 4th St, San Francisco, CA 94016  \n",
      "15223  03/14/19 10:29          871 7th St, Los Angeles, CA 90001  \n",
      "15224  03/30/19 12:32  83 Washington St, San Francisco, CA 94016  \n",
      "15225  03/30/19 12:32  83 Washington St, San Francisco, CA 94016  \n",
      "      Order ID                   Product Quantity Ordered Price Each  \\\n",
      "18378   194090              Google Phone                1        600   \n",
      "18379   194091     AA Batteries (4-pack)                1       3.84   \n",
      "18380   194092    AAA Batteries (4-pack)                2       2.99   \n",
      "18381   194093     AA Batteries (4-pack)                1       3.84   \n",
      "18382   194094  Lightning Charging Cable                1      14.95   \n",
      "\n",
      "           Order Date                        Purchase Address  \n",
      "18378  04/08/19 17:11   177 Jackson St, Los Angeles, CA 90001  \n",
      "18379  04/15/19 16:02         311 Forest St, Austin, TX 73301  \n",
      "18380  04/28/19 14:36  347 Sunset St, San Francisco, CA 94016  \n",
      "18381  04/14/19 15:09         835 Lake St, Portland, OR 97035  \n",
      "18382  04/18/19 11:08          354 North St, Boston, MA 02215  \n",
      "      Order ID                     Product Quantity Ordered Price Each  \\\n",
      "16630   209916  Bose SoundSport Headphones                1      99.99   \n",
      "16631   209917            Wired Headphones                1      11.99   \n",
      "16632   209918      AAA Batteries (4-pack)                2       2.99   \n",
      "16633   209919        USB-C Charging Cable                1      11.95   \n",
      "16634   209920             ThinkPad Laptop                1     999.99   \n",
      "\n",
      "           Order Date                     Purchase Address  \n",
      "16630  05/08/19 19:15     235 Center St, Seattle, WA 98101  \n",
      "16631  05/24/19 22:02  926 9th St, San Francisco, CA 94016  \n",
      "16632  05/24/19 17:44     868 Hickory St, Boston, MA 02215  \n",
      "16633  05/04/19 12:46      204 Adams St, Seattle, WA 98101  \n",
      "16634  05/18/19 23:07         43 5th St, Atlanta, GA 30301  \n",
      "      Order ID                 Product Quantity Ordered Price Each  \\\n",
      "13617   222905  AAA Batteries (4-pack)                1       2.99   \n",
      "13618   222906        27in FHD Monitor                1     149.99   \n",
      "13619   222907    USB-C Charging Cable                1      11.95   \n",
      "13620   222908    USB-C Charging Cable                1      11.95   \n",
      "13621   222909  AAA Batteries (4-pack)                1       2.99   \n",
      "\n",
      "           Order Date                       Purchase Address  \n",
      "13617  06/07/19 19:02          795 Pine St, Boston, MA 02215  \n",
      "13618  06/01/19 19:29  495 North St, New York City, NY 10001  \n",
      "13619  06/22/19 18:57  319 Ridge St, San Francisco, CA 94016  \n",
      "13620  06/26/19 18:35   916 Main St, San Francisco, CA 94016  \n",
      "13621  06/25/19 14:33         209 11th St, Atlanta, GA 30301  \n",
      "       Unnamed: 0  Order_ID                 Product  Quantity_Ordered  \\\n",
      "14366       14366  236665.0        Wired Headphones               1.0   \n",
      "14367       14367  236666.0            20in Monitor               1.0   \n",
      "14368       14368  236667.0  AAA Batteries (4-pack)               1.0   \n",
      "14369       14369  236668.0        Wired Headphones               1.0   \n",
      "14370       14370  236669.0  AAA Batteries (4-pack)               1.0   \n",
      "\n",
      "       Price_Each                   Order_Date  \\\n",
      "14366   11.990000  2020-07-19 16:16:00.0000000   \n",
      "14367  109.989998  2031-07-19 20:11:00.0000000   \n",
      "14368    2.990000  2017-07-19 22:29:00.0000000   \n",
      "14369   11.990000  2030-07-19 19:28:00.0000000   \n",
      "14370    2.990000  2010-07-19 01:50:00.0000000   \n",
      "\n",
      "                           Purchase_Address  \n",
      "14366      694 Meadow St, Atlanta, GA 30301  \n",
      "14367  866 14th St, San Francisco, CA 94016  \n",
      "14368       249 Cherry St, Dallas, TX 75001  \n",
      "14369       727 Wilson St, Austin, TX 73301  \n",
      "14370   743 9th St, New York City, NY 10001  \n",
      "       Unnamed: 0  Order_ID                     Product  Quantity_Ordered  \\\n",
      "12006       12006  248146.0  Bose SoundSport Headphones               1.0   \n",
      "12007       12007  248147.0      AAA Batteries (4-pack)               3.0   \n",
      "12008       12008  248148.0       AA Batteries (4-pack)               1.0   \n",
      "12009       12009  248149.0        USB-C Charging Cable               1.0   \n",
      "12010       12010  248150.0       AA Batteries (4-pack)               1.0   \n",
      "\n",
      "       Price_Each                   Order_Date  \\\n",
      "12006   99.989998  2029-08-19 22:19:00.0000000   \n",
      "12007    2.990000  2031-08-19 16:26:00.0000000   \n",
      "12008    3.840000  2002-08-19 07:25:00.0000000   \n",
      "12009   11.950000  2008-08-19 12:10:00.0000000   \n",
      "12010    3.840000  2016-08-19 08:13:00.0000000   \n",
      "\n",
      "                              Purchase_Address  \n",
      "12006  868 Hickory St, San Francisco, CA 94016  \n",
      "12007        206 Lakeview St, Boston, MA 02215  \n",
      "12008           568 13th St, Seattle, WA 98101  \n",
      "12009   495 Walnut St, San Francisco, CA 94016  \n",
      "12010       738 Park St, Los Angeles, CA 90001  \n",
      "       Unnamed: 0  Order_ID                 Product  Quantity_Ordered  \\\n",
      "11681       11681  259353.0  AAA Batteries (4-pack)               3.0   \n",
      "11682       11682  259354.0                  iPhone               1.0   \n",
      "11683       11683  259355.0                  iPhone               1.0   \n",
      "11684       11684  259356.0  34in Ultrawide Monitor               1.0   \n",
      "11685       11685  259357.0    USB-C Charging Cable               1.0   \n",
      "\n",
      "       Price_Each                   Order_Date  \\\n",
      "11681     2.99000  2017-09-19 20:56:00.0000000   \n",
      "11682   700.00000  2001-09-19 16:00:00.0000000   \n",
      "11683   700.00000  2023-09-19 07:39:00.0000000   \n",
      "11684   379.98999  2019-09-19 17:30:00.0000000   \n",
      "11685    11.95000  2030-09-19 00:18:00.0000000   \n",
      "\n",
      "                              Purchase_Address  \n",
      "11681   840 Highland St, Los Angeles, CA 90001  \n",
      "11682  216 Dogwood St, San Francisco, CA 94016  \n",
      "11683     220 12th St, San Francisco, CA 94016  \n",
      "11684   511 Forest St, San Francisco, CA 94016  \n",
      "11685   250 Meadow St, San Francisco, CA 94016  \n",
      "       Unnamed: 0  Order_ID                Product  Quantity_Ordered  \\\n",
      "20374       20374  278792.0  AA Batteries (4-pack)               1.0   \n",
      "20375       20375  278793.0       Wired Headphones               1.0   \n",
      "20376       20376  278794.0  AA Batteries (4-pack)               1.0   \n",
      "20377       20377  278795.0                 iPhone               1.0   \n",
      "20378       20378  278796.0       Wired Headphones               1.0   \n",
      "\n",
      "       Price_Each                   Order_Date  \\\n",
      "20374        3.84  2012-10-19 04:32:00.0000000   \n",
      "20375       11.99  2028-10-19 22:00:00.0000000   \n",
      "20376        3.84  2009-10-19 20:58:00.0000000   \n",
      "20377      700.00  2031-10-19 17:21:00.0000000   \n",
      "20378       11.99  2013-10-19 11:20:00.0000000   \n",
      "\n",
      "                              Purchase_Address  \n",
      "20374    920 Adams St, San Francisco, CA 94016  \n",
      "20375   161 Chestnut St, Los Angeles, CA 90001  \n",
      "20376   346 Spruce St, San Francisco, CA 94016  \n",
      "20377           291 Hill St, Seattle, WA 98101  \n",
      "20378  547 Jefferson St, Los Angeles, CA 90001  \n",
      "       Unnamed: 0  Order_ID                   Product  Quantity_Ordered  \\\n",
      "17656       17656  295660.0    AAA Batteries (4-pack)               2.0   \n",
      "17657       17657  295661.0      USB-C Charging Cable               1.0   \n",
      "17658       17658  295662.0  Lightning Charging Cable               1.0   \n",
      "17659       17659  295663.0    AAA Batteries (4-pack)               1.0   \n",
      "17660       17660  295664.0              Google Phone               1.0   \n",
      "\n",
      "       Price_Each                   Order_Date  \\\n",
      "17656        2.99  2004-11-19 14:17:00.0000000   \n",
      "17657       11.95  2023-11-19 07:22:00.0000000   \n",
      "17658       14.95  2013-11-19 16:12:00.0000000   \n",
      "17659        2.99  2017-11-19 17:08:00.0000000   \n",
      "17660      600.00  2017-11-19 16:13:00.0000000   \n",
      "\n",
      "                        Purchase_Address  \n",
      "17656  574 4th St, Los Angeles, CA 90001  \n",
      "17657       359 1st St, Austin, TX 73301  \n",
      "17658      900 10th St, Boston, MA 02215  \n",
      "17659    592 Sunset St, Boston, MA 02215  \n",
      "17660   428 Jackson St, Boston, MA 02215  \n",
      "       Unnamed: 0  Order_ID                   Product  Quantity_Ordered  \\\n",
      "17656       17656  295660.0    AAA Batteries (4-pack)               2.0   \n",
      "17657       17657  295661.0      USB-C Charging Cable               1.0   \n",
      "17658       17658  295662.0  Lightning Charging Cable               1.0   \n",
      "17659       17659  295663.0    AAA Batteries (4-pack)               1.0   \n",
      "17660       17660  295664.0              Google Phone               1.0   \n",
      "\n",
      "       Price_Each                   Order_Date  \\\n",
      "17656        2.99  2004-11-19 14:17:00.0000000   \n",
      "17657       11.95  2023-11-19 07:22:00.0000000   \n",
      "17658       14.95  2013-11-19 16:12:00.0000000   \n",
      "17659        2.99  2017-11-19 17:08:00.0000000   \n",
      "17660      600.00  2017-11-19 16:13:00.0000000   \n",
      "\n",
      "                        Purchase_Address  \n",
      "17656  574 4th St, Los Angeles, CA 90001  \n",
      "17657       359 1st St, Austin, TX 73301  \n",
      "17658      900 10th St, Boston, MA 02215  \n",
      "17659    592 Sunset St, Boston, MA 02215  \n",
      "17660   428 Jackson St, Boston, MA 02215  \n"
     ]
    }
   ],
   "source": [
    "# check the last few rows for all the datasets\n",
    "for month in months:\n",
    "    print(month.tail())"
   ]
  },
  {
   "cell_type": "markdown",
   "metadata": {},
   "source": [
    "November and December seem to have the same entries and will need to be checked"
   ]
  },
  {
   "cell_type": "code",
   "execution_count": 6,
   "metadata": {},
   "outputs": [
    {
     "name": "stdout",
     "output_type": "stream",
     "text": [
      "The datasets contain the same entries.\n"
     ]
    }
   ],
   "source": [
    "# Confirm if November and December have the same entries\n",
    "nov = nov.sort_values(by=['Order_ID'])\n",
    "dec = dec.sort_values(by=['Order_ID'])\n",
    "\n",
    "# Compare the DataFrames\n",
    "are_equal = nov.equals(dec)\n",
    "\n",
    "if are_equal:\n",
    "    print(\"The datasets contain the same entries.\")\n",
    "else:\n",
    "    print(\"The datasets do not contain the same entries.\")\n"
   ]
  },
  {
   "cell_type": "markdown",
   "metadata": {},
   "source": [
    "#### Early findings \n",
    "###### Calling the info method has revealed that:\n",
    "1. The feature names are not identical in all the dataframes. 6 are identical and the other 6 are identical\n",
    "2. The data types for the features are not the same for all the dataframes. \n",
    "\n",
    "###### Calling the head and tail methods have revealed that:\n",
    "1. There were some entry mistakes \n",
    "2. The format of the date feature is different when comparing the first 6 months to the last 6 of the year\n",
    "3. The month of November and December dataframes have the same entries \n",
    "4. The datasets are supposed to be from the year 2019 but have dates from other years\n",
    "\n",
    "#### Next Steps\n",
    "1. Drop the December dataset \n",
    "2. Merge dataframes to create 2 dataframes \n",
    "3. Change feature names to create identical ones in both dataframes \n",
    "4. Change the data types of all the features to the appropriate ones in both dataframes \n",
    "5. Use one datetime format for both dataframes \n",
    "6. Merge the dataframes to create one \n",
    "7. Change all the dates that are not in 2019 to their corresponding dates in 2019\n",
    "8. Proceed with further analysis"
   ]
  },
  {
   "cell_type": "markdown",
   "metadata": {},
   "source": [
    "## DATA PREPARATION"
   ]
  },
  {
   "cell_type": "markdown",
   "metadata": {},
   "source": [
    "#### Creating 2 dataframes"
   ]
  },
  {
   "cell_type": "code",
   "execution_count": 7,
   "metadata": {},
   "outputs": [],
   "source": [
    "# Create list of first 6 months\n",
    "first_6 = months[:6]\n",
    "\n",
    "# Create list of second 6 months excluding December\n",
    "second_6 = months[6:11]\n"
   ]
  },
  {
   "cell_type": "code",
   "execution_count": 8,
   "metadata": {},
   "outputs": [],
   "source": [
    "# Merge the dataframes \n",
    "df1 = pd.concat(first_6, ignore_index = True)\n",
    "df2 = pd.concat(second_6, ignore_index = True)"
   ]
  },
  {
   "cell_type": "markdown",
   "metadata": {},
   "source": [
    "##### Check to see if all the entries remained after merging"
   ]
  },
  {
   "cell_type": "code",
   "execution_count": 9,
   "metadata": {},
   "outputs": [
    {
     "name": "stdout",
     "output_type": "stream",
     "text": [
      "Sum of entries of first 6 months is 85625 while total entries in the merged dataset is 85625\n"
     ]
    }
   ],
   "source": [
    "# Check merged datasets to confirm the number of entries \n",
    "a = len(jan)\n",
    "b = len(feb)\n",
    "c = len(mar)\n",
    "d = len(apr)\n",
    "e = len(may)\n",
    "f = len(jun)\n",
    "\n",
    "entries = [a, b, c, d, e, f]\n",
    "\n",
    "total = 0\n",
    "for length in entries:\n",
    "    total += length\n",
    "    \n",
    "df1_length = len(df1)\n",
    "print(f\"Sum of entries of first 6 months is {total} while total entries in the merged dataset is {df1_length}\")"
   ]
  },
  {
   "cell_type": "code",
   "execution_count": 10,
   "metadata": {},
   "outputs": [
    {
     "name": "stdout",
     "output_type": "stream",
     "text": [
      "Sum of entries of first 6 months is 76108 while total entries in the merged dataset is 76108\n"
     ]
    }
   ],
   "source": [
    "# Check merged datasets to confirm the number of entries \n",
    "g = len(jul)\n",
    "h = len(aug)\n",
    "i = len(sep)\n",
    "j = len(octo)\n",
    "k = len(nov)\n",
    "\n",
    "entries = [g, h, i, j, k]\n",
    "\n",
    "total = 0\n",
    "for length in entries:\n",
    "    total += length\n",
    "    \n",
    "df2_length = len(df2)\n",
    "print(f\"Sum of entries of first 6 months is {total} while total entries in the merged dataset is {df2_length}\")"
   ]
  },
  {
   "cell_type": "markdown",
   "metadata": {},
   "source": [
    "#### Change feature names to create identical ones in both dataframes "
   ]
  },
  {
   "cell_type": "code",
   "execution_count": 11,
   "metadata": {},
   "outputs": [],
   "source": [
    "# Rename some columns in df1\n",
    "df1.columns = df1.columns.str.replace('Price Each', 'Unit Price')\n",
    "df1.columns = df1.columns.str.replace('Order Date', 'Date')"
   ]
  },
  {
   "cell_type": "code",
   "execution_count": 12,
   "metadata": {},
   "outputs": [
    {
     "data": {
      "text/plain": [
       "Index(['Order ID', 'Product', 'Quantity Ordered', 'Unit Price', 'Date',\n",
       "       'Purchase Address'],\n",
       "      dtype='object')"
      ]
     },
     "execution_count": 12,
     "metadata": {},
     "output_type": "execute_result"
    }
   ],
   "source": [
    "# Confirm the change \n",
    "df1.columns"
   ]
  },
  {
   "cell_type": "code",
   "execution_count": 13,
   "metadata": {},
   "outputs": [],
   "source": [
    "# Rename some columns in df2\n",
    "df2.columns = df2.columns.str.replace('Price_Each', 'Unit Price')\n",
    "\n",
    "df2.columns = df2.columns.str.replace('Order_Date', 'Date')\n",
    "\n",
    "df2.columns = df2.columns.str.replace( 'Quantity_Ordered','Quantity Ordered')\n",
    "\n",
    "df2.columns = df2.columns.str.replace('Purchase_Address', 'Purchase Address')\n",
    "\n",
    "df2.columns = df2.columns.str.replace('Order_ID', 'Order ID')"
   ]
  },
  {
   "cell_type": "code",
   "execution_count": 14,
   "metadata": {},
   "outputs": [
    {
     "data": {
      "text/plain": [
       "Index(['Unnamed: 0', 'Order ID', 'Product', 'Quantity Ordered', 'Unit Price',\n",
       "       'Date', 'Purchase Address'],\n",
       "      dtype='object')"
      ]
     },
     "execution_count": 14,
     "metadata": {},
     "output_type": "execute_result"
    }
   ],
   "source": [
    "# Confirm change\n",
    "df2.columns"
   ]
  },
  {
   "cell_type": "code",
   "execution_count": 15,
   "metadata": {},
   "outputs": [
    {
     "data": {
      "text/plain": [
       "Index(['Order ID', 'Product', 'Quantity Ordered', 'Unit Price', 'Date',\n",
       "       'Purchase Address'],\n",
       "      dtype='object')"
      ]
     },
     "execution_count": 15,
     "metadata": {},
     "output_type": "execute_result"
    }
   ],
   "source": [
    "to_drop = 'Unnamed: 0'\n",
    "df2 = df2.drop(to_drop, axis=1)\n",
    "df2.columns"
   ]
  },
  {
   "cell_type": "markdown",
   "metadata": {},
   "source": [
    "#### Change the data types of all the features to the appropriate ones in both dataframes"
   ]
  },
  {
   "cell_type": "code",
   "execution_count": 16,
   "metadata": {},
   "outputs": [
    {
     "data": {
      "text/plain": [
       "Order ID            object\n",
       "Product             object\n",
       "Quantity Ordered    object\n",
       "Unit Price          object\n",
       "Date                object\n",
       "Purchase Address    object\n",
       "dtype: object"
      ]
     },
     "execution_count": 16,
     "metadata": {},
     "output_type": "execute_result"
    }
   ],
   "source": [
    "df1.dtypes "
   ]
  },
  {
   "cell_type": "code",
   "execution_count": 17,
   "metadata": {},
   "outputs": [
    {
     "data": {
      "text/plain": [
       "Order ID            float64\n",
       "Product              object\n",
       "Quantity Ordered    float64\n",
       "Unit Price          float64\n",
       "Date                 object\n",
       "Purchase Address     object\n",
       "dtype: object"
      ]
     },
     "execution_count": 17,
     "metadata": {},
     "output_type": "execute_result"
    }
   ],
   "source": [
    "df2.dtypes"
   ]
  },
  {
   "cell_type": "markdown",
   "metadata": {},
   "source": [
    "##### Changes to be made \n",
    "\n",
    "##### df1\n",
    "1. Check for duplicates and drop if any\n",
    "2. Handle missing values\n",
    "3. Convert 'Quantity Ordered' feature to integer \n",
    "4. Convert 'Unit Price' feature to float\n",
    "5. Convert 'Date' feature to date time\n",
    "\n",
    "##### df2\n",
    "1. Check for duplicates and drop if any\n",
    "2. Handle missing values\n",
    "3. Convert 'Order ID  ' feature to object \n",
    "4. Convert 'Quantity Ordered' feature to integer\n",
    "5. Convert 'Date' feature to date time"
   ]
  },
  {
   "cell_type": "markdown",
   "metadata": {},
   "source": [
    "### df1"
   ]
  },
  {
   "cell_type": "markdown",
   "metadata": {},
   "source": [
    "##### Check for duplicates"
   ]
  },
  {
   "cell_type": "code",
   "execution_count": 18,
   "metadata": {},
   "outputs": [
    {
     "data": {
      "text/plain": [
       "511"
      ]
     },
     "execution_count": 18,
     "metadata": {},
     "output_type": "execute_result"
    }
   ],
   "source": [
    "duplicates = df1.duplicated().sum()\n",
    "duplicates"
   ]
  },
  {
   "cell_type": "code",
   "execution_count": 19,
   "metadata": {},
   "outputs": [
    {
     "name": "stdout",
     "output_type": "stream",
     "text": [
      "Since the percentage is 0.5967883211678832, it is negligible compared to the total number of rows and so the duplicated entries can be dropped\n"
     ]
    }
   ],
   "source": [
    "# Check percentage of duplicate values \n",
    "total_rows = df1.shape[0]\n",
    "percentage = duplicates / total_rows * 100\n",
    "\n",
    "if percentage < 2:\n",
    "    print(f'Since the percentage is {percentage}, it is negligible compared to the total number of rows and so the duplicated entries can be dropped')\n",
    "else:\n",
    "    print(f'Since the percentage is {percentage} , it represents a substantial number and the entries will have to be put in proper format')"
   ]
  },
  {
   "cell_type": "code",
   "execution_count": 20,
   "metadata": {},
   "outputs": [],
   "source": [
    "# Drop duplicates\n",
    "df1 = df1.drop_duplicates()"
   ]
  },
  {
   "cell_type": "markdown",
   "metadata": {},
   "source": [
    "##### Handling missing values"
   ]
  },
  {
   "cell_type": "code",
   "execution_count": 21,
   "metadata": {},
   "outputs": [
    {
     "data": {
      "text/plain": [
       "Order ID            1\n",
       "Product             1\n",
       "Quantity Ordered    1\n",
       "Unit Price          1\n",
       "Date                1\n",
       "Purchase Address    1\n",
       "dtype: int64"
      ]
     },
     "execution_count": 21,
     "metadata": {},
     "output_type": "execute_result"
    }
   ],
   "source": [
    "# Handle missing values\n",
    "df1.isna().sum()"
   ]
  },
  {
   "cell_type": "markdown",
   "metadata": {},
   "source": [
    "##### Convert 'Quantity Ordered' to Integer"
   ]
  },
  {
   "cell_type": "code",
   "execution_count": 22,
   "metadata": {},
   "outputs": [
    {
     "data": {
      "text/plain": [
       "array(['1', '2', '3', '5', '4', nan, '7', 'Quantity Ordered', '6', '9'],\n",
       "      dtype=object)"
      ]
     },
     "execution_count": 22,
     "metadata": {},
     "output_type": "execute_result"
    }
   ],
   "source": [
    "# Find out unique entries \n",
    "df1['Quantity Ordered'].unique()"
   ]
  },
  {
   "cell_type": "code",
   "execution_count": 23,
   "metadata": {},
   "outputs": [
    {
     "data": {
      "text/plain": [
       "1"
      ]
     },
     "execution_count": 23,
     "metadata": {},
     "output_type": "execute_result"
    }
   ],
   "source": [
    "# Count the occurrences of 'Quantity Ordered' in the 'Quantity Ordered' column\n",
    "count = (df1['Quantity Ordered'] == 'Quantity Ordered').sum()\n",
    "count"
   ]
  },
  {
   "cell_type": "code",
   "execution_count": 24,
   "metadata": {},
   "outputs": [],
   "source": [
    "# Replace 'Quantity Ordered' with nan in the 'Quantity Ordered' column\n",
    "df1['Quantity Ordered'] = df1['Quantity Ordered'].replace('Quantity Ordered', np.nan)"
   ]
  },
  {
   "cell_type": "code",
   "execution_count": 25,
   "metadata": {},
   "outputs": [
    {
     "data": {
      "text/plain": [
       "2"
      ]
     },
     "execution_count": 25,
     "metadata": {},
     "output_type": "execute_result"
    }
   ],
   "source": [
    "# Check for the number of null values \n",
    "quantity_null = df1['Quantity Ordered'].isna().sum()\n",
    "quantity_null"
   ]
  },
  {
   "cell_type": "code",
   "execution_count": 26,
   "metadata": {},
   "outputs": [
    {
     "name": "stdout",
     "output_type": "stream",
     "text": [
      "Since the percentage is 0.002349789693822403, it is negligible compared to the total number of rows and so the null entries can be dropped\n"
     ]
    }
   ],
   "source": [
    "# Check percentage of null values \n",
    "total_rows = df1.shape[0]\n",
    "percentage = quantity_null / total_rows * 100\n",
    "\n",
    "if percentage < 2:\n",
    "    print(f'Since the percentage is {percentage}, it is negligible compared to the total number of rows and so the null entries can be dropped')\n",
    "else:\n",
    "    print(f'Since the percentage is {percentage} , it represents a substantial number and the entries will have to be put in proper format')"
   ]
  },
  {
   "cell_type": "code",
   "execution_count": 27,
   "metadata": {},
   "outputs": [],
   "source": [
    "# Drop null entries \n",
    "df1 = df1.dropna(subset=['Quantity Ordered'])"
   ]
  },
  {
   "cell_type": "code",
   "execution_count": 28,
   "metadata": {},
   "outputs": [],
   "source": [
    "# Convert to int\n",
    "df1['Quantity Ordered'] = df1['Quantity Ordered'].astype(int)"
   ]
  },
  {
   "cell_type": "code",
   "execution_count": 29,
   "metadata": {},
   "outputs": [
    {
     "data": {
      "text/plain": [
       "dtype('int64')"
      ]
     },
     "execution_count": 29,
     "metadata": {},
     "output_type": "execute_result"
    }
   ],
   "source": [
    "# Confirm change\n",
    "df1['Quantity Ordered'].dtype"
   ]
  },
  {
   "cell_type": "markdown",
   "metadata": {},
   "source": [
    "##### Convert Unit Price to float"
   ]
  },
  {
   "cell_type": "code",
   "execution_count": 30,
   "metadata": {},
   "outputs": [
    {
     "data": {
      "text/plain": [
       "array(['700', '14.95', '11.99', '149.99', '2.99', '389.99', '11.95',\n",
       "       '99.99', '150', '1700', '300', '400', '3.84', '600', '109.99',\n",
       "       '379.99', '999.99', '600.0', '700.0', '150.0', '300.0', '1700.0'],\n",
       "      dtype=object)"
      ]
     },
     "execution_count": 30,
     "metadata": {},
     "output_type": "execute_result"
    }
   ],
   "source": [
    "# Find out unique entries \n",
    "df1['Unit Price'].unique()"
   ]
  },
  {
   "cell_type": "code",
   "execution_count": 31,
   "metadata": {},
   "outputs": [],
   "source": [
    "# Convert the 'Unit Price' feature to float\n",
    "df1['Unit Price'] = df1['Unit Price'].astype(float)"
   ]
  },
  {
   "cell_type": "code",
   "execution_count": 32,
   "metadata": {},
   "outputs": [
    {
     "data": {
      "text/plain": [
       "dtype('float64')"
      ]
     },
     "execution_count": 32,
     "metadata": {},
     "output_type": "execute_result"
    }
   ],
   "source": [
    "# Confirm change\n",
    "df1['Unit Price'].dtype"
   ]
  },
  {
   "cell_type": "markdown",
   "metadata": {},
   "source": [
    "##### Convert 'Date' feature to date time\n",
    "\n"
   ]
  },
  {
   "cell_type": "code",
   "execution_count": 33,
   "metadata": {},
   "outputs": [
    {
     "data": {
      "text/plain": [
       "0"
      ]
     },
     "execution_count": 33,
     "metadata": {},
     "output_type": "execute_result"
    }
   ],
   "source": [
    "# Check for missing values \n",
    "df1['Date'].isna().sum()"
   ]
  },
  {
   "cell_type": "code",
   "execution_count": 34,
   "metadata": {},
   "outputs": [
    {
     "name": "stderr",
     "output_type": "stream",
     "text": [
      "<ipython-input-34-70124542402e>:2: UserWarning: Could not infer format, so each element will be parsed individually, falling back to `dateutil`. To ensure parsing is consistent and as-expected, please specify a format.\n",
      "  df1['Date'] = pd.to_datetime(df1['Date'])\n"
     ]
    }
   ],
   "source": [
    "# Convert the 'Date' to datetime data type\n",
    "df1['Date'] = pd.to_datetime(df1['Date'])\n"
   ]
  },
  {
   "cell_type": "code",
   "execution_count": 35,
   "metadata": {},
   "outputs": [
    {
     "data": {
      "text/plain": [
       "dtype('<M8[ns]')"
      ]
     },
     "execution_count": 35,
     "metadata": {},
     "output_type": "execute_result"
    }
   ],
   "source": [
    " # Confirm change \n",
    "df1['Date'].dtype"
   ]
  },
  {
   "cell_type": "code",
   "execution_count": 36,
   "metadata": {},
   "outputs": [
    {
     "data": {
      "text/plain": [
       "0   2019-01-22 21:25:00\n",
       "1   2019-01-28 14:15:00\n",
       "2   2019-01-17 13:33:00\n",
       "3   2019-01-05 20:33:00\n",
       "4   2019-01-25 11:59:00\n",
       "Name: Date, dtype: datetime64[ns]"
      ]
     },
     "execution_count": 36,
     "metadata": {},
     "output_type": "execute_result"
    }
   ],
   "source": [
    "df1['Date'].head()"
   ]
  },
  {
   "cell_type": "markdown",
   "metadata": {},
   "source": [
    "### df2 "
   ]
  },
  {
   "cell_type": "markdown",
   "metadata": {},
   "source": [
    "##### Check for duplicates"
   ]
  },
  {
   "cell_type": "code",
   "execution_count": 37,
   "metadata": {},
   "outputs": [
    {
     "data": {
      "text/plain": [
       "481"
      ]
     },
     "execution_count": 37,
     "metadata": {},
     "output_type": "execute_result"
    }
   ],
   "source": [
    "duplicates = df2.duplicated().sum()\n",
    "duplicates"
   ]
  },
  {
   "cell_type": "code",
   "execution_count": 38,
   "metadata": {},
   "outputs": [
    {
     "name": "stdout",
     "output_type": "stream",
     "text": [
      "Since the percentage is 0.6319966363588584, it is negligible compared to the total number of rows and so the duplicated entries can be dropped\n"
     ]
    }
   ],
   "source": [
    "# Check percentage of duplicate values \n",
    "total_rows = df2.shape[0]\n",
    "percentage = duplicates / total_rows * 100\n",
    "\n",
    "if percentage < 2:\n",
    "    print(f'Since the percentage is {percentage}, it is negligible compared to the total number of rows and so the duplicated entries can be dropped')\n",
    "else:\n",
    "    print(f'Since the percentage is {percentage} , it represents a substantial number and the entries will have to be put in proper format')"
   ]
  },
  {
   "cell_type": "code",
   "execution_count": 39,
   "metadata": {},
   "outputs": [],
   "source": [
    "# Drop duplicates \n",
    "df2 = df2.drop_duplicates()"
   ]
  },
  {
   "cell_type": "markdown",
   "metadata": {},
   "source": [
    "##### Handle missing values "
   ]
  },
  {
   "cell_type": "code",
   "execution_count": 40,
   "metadata": {},
   "outputs": [
    {
     "data": {
      "text/plain": [
       "Order ID            2\n",
       "Product             1\n",
       "Quantity Ordered    2\n",
       "Unit Price          2\n",
       "Date                2\n",
       "Purchase Address    1\n",
       "dtype: int64"
      ]
     },
     "execution_count": 40,
     "metadata": {},
     "output_type": "execute_result"
    }
   ],
   "source": [
    "# Check for number of missing values \n",
    "df2.isna().sum()"
   ]
  },
  {
   "cell_type": "code",
   "execution_count": 41,
   "metadata": {},
   "outputs": [
    {
     "name": "stdout",
     "output_type": "stream",
     "text": [
      "Since 0.0026445581604453436 is negligible, null values can be dropped\n"
     ]
    }
   ],
   "source": [
    "# Check percentage of missing values to total number of rows \n",
    "max_null = 2\n",
    "total_rows = df2.shape[0]\n",
    "percentage = max_null / total_rows * 100\n",
    "\n",
    "if percentage < 2:\n",
    "    print(f'Since {percentage} is negligible, null values can be dropped')\n",
    "else:\n",
    "    print(f'Since {percentage} is substantial, the entries will have to be put into another format')"
   ]
  },
  {
   "cell_type": "code",
   "execution_count": 42,
   "metadata": {},
   "outputs": [],
   "source": [
    "# Drop all null values \n",
    "df2 = df2.dropna()"
   ]
  },
  {
   "cell_type": "code",
   "execution_count": 43,
   "metadata": {},
   "outputs": [
    {
     "data": {
      "text/plain": [
       "Order ID            0\n",
       "Product             0\n",
       "Quantity Ordered    0\n",
       "Unit Price          0\n",
       "Date                0\n",
       "Purchase Address    0\n",
       "dtype: int64"
      ]
     },
     "execution_count": 43,
     "metadata": {},
     "output_type": "execute_result"
    }
   ],
   "source": [
    "# Confirm \n",
    "df2.isna().sum()"
   ]
  },
  {
   "cell_type": "markdown",
   "metadata": {},
   "source": [
    "##### Convert Order ID column into object data type"
   ]
  },
  {
   "cell_type": "code",
   "execution_count": 44,
   "metadata": {},
   "outputs": [],
   "source": [
    "# Change to object data type\n",
    "df2['Order ID'] = df2['Order ID'].astype('object')"
   ]
  },
  {
   "cell_type": "code",
   "execution_count": 45,
   "metadata": {},
   "outputs": [
    {
     "data": {
      "text/plain": [
       "dtype('O')"
      ]
     },
     "execution_count": 45,
     "metadata": {},
     "output_type": "execute_result"
    }
   ],
   "source": [
    "# Confirm change\n",
    "df2['Order ID'].dtype"
   ]
  },
  {
   "cell_type": "markdown",
   "metadata": {},
   "source": [
    "##### Convert Quantity Ordered into integer data type"
   ]
  },
  {
   "cell_type": "code",
   "execution_count": 46,
   "metadata": {},
   "outputs": [],
   "source": [
    "# Change to integer data type\n",
    "df2['Quantity Ordered'] = df2['Quantity Ordered'].astype(int)"
   ]
  },
  {
   "cell_type": "code",
   "execution_count": 47,
   "metadata": {},
   "outputs": [
    {
     "data": {
      "text/plain": [
       "dtype('int64')"
      ]
     },
     "execution_count": 47,
     "metadata": {},
     "output_type": "execute_result"
    }
   ],
   "source": [
    "# Confirm change\n",
    "df2['Quantity Ordered'].dtype"
   ]
  },
  {
   "cell_type": "markdown",
   "metadata": {},
   "source": [
    "##### Convert Date column to date time format"
   ]
  },
  {
   "cell_type": "code",
   "execution_count": 48,
   "metadata": {},
   "outputs": [],
   "source": [
    "# change to date time \n",
    "df2['Date'] = pd.to_datetime(df2['Date'])"
   ]
  },
  {
   "cell_type": "code",
   "execution_count": 49,
   "metadata": {},
   "outputs": [
    {
     "data": {
      "text/plain": [
       "dtype('<M8[ns]')"
      ]
     },
     "execution_count": 49,
     "metadata": {},
     "output_type": "execute_result"
    }
   ],
   "source": [
    "# Confirm change \n",
    "df2['Date'].dtype"
   ]
  },
  {
   "cell_type": "code",
   "execution_count": 50,
   "metadata": {},
   "outputs": [
    {
     "name": "stdout",
     "output_type": "stream",
     "text": [
      "<class 'pandas.core.series.Series'>\n",
      "Index: 75625 entries, 0 to 76107\n",
      "Series name: Date\n",
      "Non-Null Count  Dtype         \n",
      "--------------  -----         \n",
      "75625 non-null  datetime64[ns]\n",
      "dtypes: datetime64[ns](1)\n",
      "memory usage: 1.2 MB\n"
     ]
    }
   ],
   "source": [
    "df2['Date'].info()"
   ]
  },
  {
   "cell_type": "code",
   "execution_count": 51,
   "metadata": {},
   "outputs": [
    {
     "data": {
      "text/plain": [
       "0   2026-07-19 16:51:00\n",
       "1   2005-07-19 08:55:00\n",
       "2   2029-07-19 12:41:00\n",
       "3   2028-07-19 10:15:00\n",
       "4   2031-07-19 02:13:00\n",
       "Name: Date, dtype: datetime64[ns]"
      ]
     },
     "execution_count": 51,
     "metadata": {},
     "output_type": "execute_result"
    }
   ],
   "source": [
    "df2['Date'].head()"
   ]
  },
  {
   "cell_type": "markdown",
   "metadata": {},
   "source": [
    "###### Some dates in df2 have their years recorded as years that are out of range. The assumption made is that there were\n",
    "###### mistakes in the data collection process. The years will have to be corrected. The correction will be made after \n",
    "###### both dataframes are merged to ensure that any mistakes in df1 are corrected as well "
   ]
  },
  {
   "cell_type": "markdown",
   "metadata": {},
   "source": [
    "### Concatenate df1 and df2"
   ]
  },
  {
   "cell_type": "code",
   "execution_count": 52,
   "metadata": {},
   "outputs": [],
   "source": [
    "df = pd.concat([df1,df2])"
   ]
  },
  {
   "cell_type": "code",
   "execution_count": 53,
   "metadata": {},
   "outputs": [
    {
     "name": "stdout",
     "output_type": "stream",
     "text": [
      "<class 'pandas.core.frame.DataFrame'>\n",
      "Index: 160737 entries, 0 to 76107\n",
      "Data columns (total 6 columns):\n",
      " #   Column            Non-Null Count   Dtype         \n",
      "---  ------            --------------   -----         \n",
      " 0   Order ID          160737 non-null  object        \n",
      " 1   Product           160737 non-null  object        \n",
      " 2   Quantity Ordered  160737 non-null  int64         \n",
      " 3   Unit Price        160737 non-null  float64       \n",
      " 4   Date              160737 non-null  datetime64[ns]\n",
      " 5   Purchase Address  160737 non-null  object        \n",
      "dtypes: datetime64[ns](1), float64(1), int64(1), object(3)\n",
      "memory usage: 8.6+ MB\n"
     ]
    }
   ],
   "source": [
    "df.info()"
   ]
  },
  {
   "cell_type": "code",
   "execution_count": 54,
   "metadata": {},
   "outputs": [
    {
     "data": {
      "text/plain": [
       "Order ID            0\n",
       "Product             0\n",
       "Quantity Ordered    0\n",
       "Unit Price          0\n",
       "Date                0\n",
       "Purchase Address    0\n",
       "dtype: int64"
      ]
     },
     "execution_count": 54,
     "metadata": {},
     "output_type": "execute_result"
    }
   ],
   "source": [
    "# Check for missing values\n",
    "df.isna().sum()"
   ]
  },
  {
   "cell_type": "markdown",
   "metadata": {},
   "source": [
    "##### Change all date years to 2019 "
   ]
  },
  {
   "cell_type": "code",
   "execution_count": 55,
   "metadata": {},
   "outputs": [],
   "source": [
    "# Set the year to 2019\n",
    "df['Date'] = df['Date'].apply(lambda x: x.replace(year=2019))"
   ]
  },
  {
   "cell_type": "code",
   "execution_count": 56,
   "metadata": {},
   "outputs": [
    {
     "data": {
      "text/plain": [
       "False"
      ]
     },
     "execution_count": 56,
     "metadata": {},
     "output_type": "execute_result"
    }
   ],
   "source": [
    "# Check if any date has a year other than 2019\n",
    "not_2019 = (df['Date'].dt.year != 2019).any()\n",
    "not_2019"
   ]
  },
  {
   "cell_type": "markdown",
   "metadata": {},
   "source": [
    "##### Create a month column "
   ]
  },
  {
   "cell_type": "code",
   "execution_count": 57,
   "metadata": {},
   "outputs": [],
   "source": [
    "# Create a new 'Month' column with numeric month values\n",
    "df['Month'] = df['Date'].dt.month"
   ]
  },
  {
   "cell_type": "code",
   "execution_count": 58,
   "metadata": {},
   "outputs": [],
   "source": [
    "# Define a mapping of numeric months to their corresponding month names\n",
    "month_mapping = {\n",
    "    1: 'January',\n",
    "    2: 'February',\n",
    "    3: 'March',\n",
    "    4: 'April',\n",
    "    5: 'May',\n",
    "    6: 'June',\n",
    "    7: 'July',\n",
    "    8: 'August',\n",
    "    9: 'September',\n",
    "    10: 'October',\n",
    "    11: 'November',\n",
    "    12: 'December'\n",
    "}"
   ]
  },
  {
   "cell_type": "code",
   "execution_count": 59,
   "metadata": {},
   "outputs": [],
   "source": [
    "# Use the map function to apply the mapping\n",
    "df['Month'] = df['Month'].map(month_mapping)"
   ]
  },
  {
   "cell_type": "code",
   "execution_count": 60,
   "metadata": {},
   "outputs": [
    {
     "data": {
      "text/plain": [
       "0         January\n",
       "1         January\n",
       "2         January\n",
       "3         January\n",
       "4         January\n",
       "           ...   \n",
       "76103    November\n",
       "76104    November\n",
       "76105    November\n",
       "76106    November\n",
       "76107    November\n",
       "Name: Month, Length: 160737, dtype: object"
      ]
     },
     "execution_count": 60,
     "metadata": {},
     "output_type": "execute_result"
    }
   ],
   "source": [
    "df['Month']"
   ]
  },
  {
   "cell_type": "markdown",
   "metadata": {},
   "source": [
    "##### Create a week column "
   ]
  },
  {
   "cell_type": "code",
   "execution_count": 61,
   "metadata": {},
   "outputs": [],
   "source": [
    "df['Week'] = df['Date'].dt.isocalendar().week"
   ]
  },
  {
   "cell_type": "code",
   "execution_count": 62,
   "metadata": {},
   "outputs": [
    {
     "data": {
      "text/plain": [
       "0         4\n",
       "1         5\n",
       "2         3\n",
       "3         1\n",
       "4         4\n",
       "         ..\n",
       "76103    47\n",
       "76104    47\n",
       "76105    47\n",
       "76106    47\n",
       "76107    47\n",
       "Name: Week, Length: 160737, dtype: UInt32"
      ]
     },
     "execution_count": 62,
     "metadata": {},
     "output_type": "execute_result"
    }
   ],
   "source": [
    "df['Week']"
   ]
  },
  {
   "cell_type": "markdown",
   "metadata": {},
   "source": [
    "##### Create 'Product Class' column showing high-level and basic level products\n"
   ]
  },
  {
   "cell_type": "code",
   "execution_count": 63,
   "metadata": {},
   "outputs": [],
   "source": [
    "df['Product Class'] = np.where(df['Unit Price'] > 99.99, 'high-level', 'basic level')\n"
   ]
  },
  {
   "cell_type": "code",
   "execution_count": 64,
   "metadata": {},
   "outputs": [
    {
     "data": {
      "text/plain": [
       "0         high-level\n",
       "1        basic level\n",
       "2        basic level\n",
       "3         high-level\n",
       "4        basic level\n",
       "            ...     \n",
       "76103    basic level\n",
       "76104    basic level\n",
       "76105    basic level\n",
       "76106    basic level\n",
       "76107     high-level\n",
       "Name: Product Class, Length: 160737, dtype: object"
      ]
     },
     "execution_count": 64,
     "metadata": {},
     "output_type": "execute_result"
    }
   ],
   "source": [
    "# Check new column\n",
    "df['Product Class']"
   ]
  },
  {
   "cell_type": "code",
   "execution_count": 65,
   "metadata": {},
   "outputs": [
    {
     "data": {
      "text/plain": [
       "array(['high-level', 'basic level'], dtype=object)"
      ]
     },
     "execution_count": 65,
     "metadata": {},
     "output_type": "execute_result"
    }
   ],
   "source": [
    "df['Product Class'].unique()"
   ]
  },
  {
   "cell_type": "code",
   "execution_count": 66,
   "metadata": {},
   "outputs": [
    {
     "data": {
      "text/html": [
       "<div>\n",
       "<style scoped>\n",
       "    .dataframe tbody tr th:only-of-type {\n",
       "        vertical-align: middle;\n",
       "    }\n",
       "\n",
       "    .dataframe tbody tr th {\n",
       "        vertical-align: top;\n",
       "    }\n",
       "\n",
       "    .dataframe thead th {\n",
       "        text-align: right;\n",
       "    }\n",
       "</style>\n",
       "<table border=\"1\" class=\"dataframe\">\n",
       "  <thead>\n",
       "    <tr style=\"text-align: right;\">\n",
       "      <th></th>\n",
       "      <th>Order ID</th>\n",
       "      <th>Product</th>\n",
       "      <th>Quantity Ordered</th>\n",
       "      <th>Unit Price</th>\n",
       "      <th>Date</th>\n",
       "      <th>Purchase Address</th>\n",
       "      <th>Month</th>\n",
       "      <th>Week</th>\n",
       "      <th>Product Class</th>\n",
       "    </tr>\n",
       "  </thead>\n",
       "  <tbody>\n",
       "    <tr>\n",
       "      <th>0</th>\n",
       "      <td>141234</td>\n",
       "      <td>iPhone</td>\n",
       "      <td>1</td>\n",
       "      <td>700.00</td>\n",
       "      <td>2019-01-22 21:25:00</td>\n",
       "      <td>944 Walnut St, Boston, MA 02215</td>\n",
       "      <td>January</td>\n",
       "      <td>4</td>\n",
       "      <td>high-level</td>\n",
       "    </tr>\n",
       "    <tr>\n",
       "      <th>1</th>\n",
       "      <td>141235</td>\n",
       "      <td>Lightning Charging Cable</td>\n",
       "      <td>1</td>\n",
       "      <td>14.95</td>\n",
       "      <td>2019-01-28 14:15:00</td>\n",
       "      <td>185 Maple St, Portland, OR 97035</td>\n",
       "      <td>January</td>\n",
       "      <td>5</td>\n",
       "      <td>basic level</td>\n",
       "    </tr>\n",
       "    <tr>\n",
       "      <th>2</th>\n",
       "      <td>141236</td>\n",
       "      <td>Wired Headphones</td>\n",
       "      <td>2</td>\n",
       "      <td>11.99</td>\n",
       "      <td>2019-01-17 13:33:00</td>\n",
       "      <td>538 Adams St, San Francisco, CA 94016</td>\n",
       "      <td>January</td>\n",
       "      <td>3</td>\n",
       "      <td>basic level</td>\n",
       "    </tr>\n",
       "    <tr>\n",
       "      <th>3</th>\n",
       "      <td>141237</td>\n",
       "      <td>27in FHD Monitor</td>\n",
       "      <td>1</td>\n",
       "      <td>149.99</td>\n",
       "      <td>2019-01-05 20:33:00</td>\n",
       "      <td>738 10th St, Los Angeles, CA 90001</td>\n",
       "      <td>January</td>\n",
       "      <td>1</td>\n",
       "      <td>high-level</td>\n",
       "    </tr>\n",
       "    <tr>\n",
       "      <th>4</th>\n",
       "      <td>141238</td>\n",
       "      <td>Wired Headphones</td>\n",
       "      <td>1</td>\n",
       "      <td>11.99</td>\n",
       "      <td>2019-01-25 11:59:00</td>\n",
       "      <td>387 10th St, Austin, TX 73301</td>\n",
       "      <td>January</td>\n",
       "      <td>4</td>\n",
       "      <td>basic level</td>\n",
       "    </tr>\n",
       "  </tbody>\n",
       "</table>\n",
       "</div>"
      ],
      "text/plain": [
       "  Order ID                   Product  Quantity Ordered  Unit Price  \\\n",
       "0   141234                    iPhone                 1      700.00   \n",
       "1   141235  Lightning Charging Cable                 1       14.95   \n",
       "2   141236          Wired Headphones                 2       11.99   \n",
       "3   141237          27in FHD Monitor                 1      149.99   \n",
       "4   141238          Wired Headphones                 1       11.99   \n",
       "\n",
       "                 Date                       Purchase Address    Month  Week  \\\n",
       "0 2019-01-22 21:25:00        944 Walnut St, Boston, MA 02215  January     4   \n",
       "1 2019-01-28 14:15:00       185 Maple St, Portland, OR 97035  January     5   \n",
       "2 2019-01-17 13:33:00  538 Adams St, San Francisco, CA 94016  January     3   \n",
       "3 2019-01-05 20:33:00     738 10th St, Los Angeles, CA 90001  January     1   \n",
       "4 2019-01-25 11:59:00          387 10th St, Austin, TX 73301  January     4   \n",
       "\n",
       "  Product Class  \n",
       "0    high-level  \n",
       "1   basic level  \n",
       "2   basic level  \n",
       "3    high-level  \n",
       "4   basic level  "
      ]
     },
     "execution_count": 66,
     "metadata": {},
     "output_type": "execute_result"
    }
   ],
   "source": [
    "df.head()"
   ]
  },
  {
   "cell_type": "markdown",
   "metadata": {},
   "source": [
    "##### Create City column"
   ]
  },
  {
   "cell_type": "code",
   "execution_count": 67,
   "metadata": {},
   "outputs": [],
   "source": [
    "# Extract the city name from between the first and second commas of Purchase Address\n",
    "df['City'] = df['Purchase Address'].str.split(',').str[1]"
   ]
  },
  {
   "cell_type": "code",
   "execution_count": 68,
   "metadata": {},
   "outputs": [
    {
     "data": {
      "text/plain": [
       "0                Boston\n",
       "1              Portland\n",
       "2         San Francisco\n",
       "3           Los Angeles\n",
       "4                Austin\n",
       "              ...      \n",
       "76103       Los Angeles\n",
       "76104            Austin\n",
       "76105            Boston\n",
       "76106            Boston\n",
       "76107            Boston\n",
       "Name: City, Length: 160737, dtype: object"
      ]
     },
     "execution_count": 68,
     "metadata": {},
     "output_type": "execute_result"
    }
   ],
   "source": [
    "# Check cities\n",
    "df['City']"
   ]
  },
  {
   "cell_type": "code",
   "execution_count": 69,
   "metadata": {},
   "outputs": [
    {
     "data": {
      "text/plain": [
       "array([' Boston', ' Portland', ' San Francisco', ' Los Angeles',\n",
       "       ' Austin', ' Atlanta', ' Seattle', ' New York City', ' Dallas'],\n",
       "      dtype=object)"
      ]
     },
     "execution_count": 69,
     "metadata": {},
     "output_type": "execute_result"
    }
   ],
   "source": [
    "# Check unique cities\n",
    "df['City'].unique()"
   ]
  },
  {
   "cell_type": "markdown",
   "metadata": {},
   "source": [
    "##### Create Revenue column "
   ]
  },
  {
   "cell_type": "code",
   "execution_count": 70,
   "metadata": {},
   "outputs": [],
   "source": [
    "# Create new column \n",
    "df['Revenue'] = df['Unit Price'] * df['Quantity Ordered']"
   ]
  },
  {
   "cell_type": "code",
   "execution_count": 71,
   "metadata": {},
   "outputs": [
    {
     "data": {
      "text/html": [
       "<div>\n",
       "<style scoped>\n",
       "    .dataframe tbody tr th:only-of-type {\n",
       "        vertical-align: middle;\n",
       "    }\n",
       "\n",
       "    .dataframe tbody tr th {\n",
       "        vertical-align: top;\n",
       "    }\n",
       "\n",
       "    .dataframe thead th {\n",
       "        text-align: right;\n",
       "    }\n",
       "</style>\n",
       "<table border=\"1\" class=\"dataframe\">\n",
       "  <thead>\n",
       "    <tr style=\"text-align: right;\">\n",
       "      <th></th>\n",
       "      <th>Order ID</th>\n",
       "      <th>Product</th>\n",
       "      <th>Quantity Ordered</th>\n",
       "      <th>Unit Price</th>\n",
       "      <th>Date</th>\n",
       "      <th>Purchase Address</th>\n",
       "      <th>Month</th>\n",
       "      <th>Week</th>\n",
       "      <th>Product Class</th>\n",
       "      <th>City</th>\n",
       "      <th>Revenue</th>\n",
       "    </tr>\n",
       "  </thead>\n",
       "  <tbody>\n",
       "    <tr>\n",
       "      <th>0</th>\n",
       "      <td>141234</td>\n",
       "      <td>iPhone</td>\n",
       "      <td>1</td>\n",
       "      <td>700.00</td>\n",
       "      <td>2019-01-22 21:25:00</td>\n",
       "      <td>944 Walnut St, Boston, MA 02215</td>\n",
       "      <td>January</td>\n",
       "      <td>4</td>\n",
       "      <td>high-level</td>\n",
       "      <td>Boston</td>\n",
       "      <td>700.00</td>\n",
       "    </tr>\n",
       "    <tr>\n",
       "      <th>1</th>\n",
       "      <td>141235</td>\n",
       "      <td>Lightning Charging Cable</td>\n",
       "      <td>1</td>\n",
       "      <td>14.95</td>\n",
       "      <td>2019-01-28 14:15:00</td>\n",
       "      <td>185 Maple St, Portland, OR 97035</td>\n",
       "      <td>January</td>\n",
       "      <td>5</td>\n",
       "      <td>basic level</td>\n",
       "      <td>Portland</td>\n",
       "      <td>14.95</td>\n",
       "    </tr>\n",
       "    <tr>\n",
       "      <th>2</th>\n",
       "      <td>141236</td>\n",
       "      <td>Wired Headphones</td>\n",
       "      <td>2</td>\n",
       "      <td>11.99</td>\n",
       "      <td>2019-01-17 13:33:00</td>\n",
       "      <td>538 Adams St, San Francisco, CA 94016</td>\n",
       "      <td>January</td>\n",
       "      <td>3</td>\n",
       "      <td>basic level</td>\n",
       "      <td>San Francisco</td>\n",
       "      <td>23.98</td>\n",
       "    </tr>\n",
       "    <tr>\n",
       "      <th>3</th>\n",
       "      <td>141237</td>\n",
       "      <td>27in FHD Monitor</td>\n",
       "      <td>1</td>\n",
       "      <td>149.99</td>\n",
       "      <td>2019-01-05 20:33:00</td>\n",
       "      <td>738 10th St, Los Angeles, CA 90001</td>\n",
       "      <td>January</td>\n",
       "      <td>1</td>\n",
       "      <td>high-level</td>\n",
       "      <td>Los Angeles</td>\n",
       "      <td>149.99</td>\n",
       "    </tr>\n",
       "    <tr>\n",
       "      <th>4</th>\n",
       "      <td>141238</td>\n",
       "      <td>Wired Headphones</td>\n",
       "      <td>1</td>\n",
       "      <td>11.99</td>\n",
       "      <td>2019-01-25 11:59:00</td>\n",
       "      <td>387 10th St, Austin, TX 73301</td>\n",
       "      <td>January</td>\n",
       "      <td>4</td>\n",
       "      <td>basic level</td>\n",
       "      <td>Austin</td>\n",
       "      <td>11.99</td>\n",
       "    </tr>\n",
       "  </tbody>\n",
       "</table>\n",
       "</div>"
      ],
      "text/plain": [
       "  Order ID                   Product  Quantity Ordered  Unit Price  \\\n",
       "0   141234                    iPhone                 1      700.00   \n",
       "1   141235  Lightning Charging Cable                 1       14.95   \n",
       "2   141236          Wired Headphones                 2       11.99   \n",
       "3   141237          27in FHD Monitor                 1      149.99   \n",
       "4   141238          Wired Headphones                 1       11.99   \n",
       "\n",
       "                 Date                       Purchase Address    Month  Week  \\\n",
       "0 2019-01-22 21:25:00        944 Walnut St, Boston, MA 02215  January     4   \n",
       "1 2019-01-28 14:15:00       185 Maple St, Portland, OR 97035  January     5   \n",
       "2 2019-01-17 13:33:00  538 Adams St, San Francisco, CA 94016  January     3   \n",
       "3 2019-01-05 20:33:00     738 10th St, Los Angeles, CA 90001  January     1   \n",
       "4 2019-01-25 11:59:00          387 10th St, Austin, TX 73301  January     4   \n",
       "\n",
       "  Product Class            City  Revenue  \n",
       "0    high-level          Boston   700.00  \n",
       "1   basic level        Portland    14.95  \n",
       "2   basic level   San Francisco    23.98  \n",
       "3    high-level     Los Angeles   149.99  \n",
       "4   basic level          Austin    11.99  "
      ]
     },
     "execution_count": 71,
     "metadata": {},
     "output_type": "execute_result"
    }
   ],
   "source": [
    "df.head()"
   ]
  },
  {
   "cell_type": "markdown",
   "metadata": {},
   "source": [
    "##### Sort Date column as the index \n"
   ]
  },
  {
   "cell_type": "code",
   "execution_count": 72,
   "metadata": {},
   "outputs": [],
   "source": [
    "df = df.set_index('Date')"
   ]
  },
  {
   "cell_type": "code",
   "execution_count": 73,
   "metadata": {},
   "outputs": [
    {
     "data": {
      "text/html": [
       "<div>\n",
       "<style scoped>\n",
       "    .dataframe tbody tr th:only-of-type {\n",
       "        vertical-align: middle;\n",
       "    }\n",
       "\n",
       "    .dataframe tbody tr th {\n",
       "        vertical-align: top;\n",
       "    }\n",
       "\n",
       "    .dataframe thead th {\n",
       "        text-align: right;\n",
       "    }\n",
       "</style>\n",
       "<table border=\"1\" class=\"dataframe\">\n",
       "  <thead>\n",
       "    <tr style=\"text-align: right;\">\n",
       "      <th></th>\n",
       "      <th>Order ID</th>\n",
       "      <th>Product</th>\n",
       "      <th>Quantity Ordered</th>\n",
       "      <th>Unit Price</th>\n",
       "      <th>Purchase Address</th>\n",
       "      <th>Month</th>\n",
       "      <th>Week</th>\n",
       "      <th>Product Class</th>\n",
       "      <th>City</th>\n",
       "      <th>Revenue</th>\n",
       "    </tr>\n",
       "    <tr>\n",
       "      <th>Date</th>\n",
       "      <th></th>\n",
       "      <th></th>\n",
       "      <th></th>\n",
       "      <th></th>\n",
       "      <th></th>\n",
       "      <th></th>\n",
       "      <th></th>\n",
       "      <th></th>\n",
       "      <th></th>\n",
       "      <th></th>\n",
       "    </tr>\n",
       "  </thead>\n",
       "  <tbody>\n",
       "    <tr>\n",
       "      <th>2019-01-22 21:25:00</th>\n",
       "      <td>141234</td>\n",
       "      <td>iPhone</td>\n",
       "      <td>1</td>\n",
       "      <td>700.00</td>\n",
       "      <td>944 Walnut St, Boston, MA 02215</td>\n",
       "      <td>January</td>\n",
       "      <td>4</td>\n",
       "      <td>high-level</td>\n",
       "      <td>Boston</td>\n",
       "      <td>700.00</td>\n",
       "    </tr>\n",
       "    <tr>\n",
       "      <th>2019-01-28 14:15:00</th>\n",
       "      <td>141235</td>\n",
       "      <td>Lightning Charging Cable</td>\n",
       "      <td>1</td>\n",
       "      <td>14.95</td>\n",
       "      <td>185 Maple St, Portland, OR 97035</td>\n",
       "      <td>January</td>\n",
       "      <td>5</td>\n",
       "      <td>basic level</td>\n",
       "      <td>Portland</td>\n",
       "      <td>14.95</td>\n",
       "    </tr>\n",
       "    <tr>\n",
       "      <th>2019-01-17 13:33:00</th>\n",
       "      <td>141236</td>\n",
       "      <td>Wired Headphones</td>\n",
       "      <td>2</td>\n",
       "      <td>11.99</td>\n",
       "      <td>538 Adams St, San Francisco, CA 94016</td>\n",
       "      <td>January</td>\n",
       "      <td>3</td>\n",
       "      <td>basic level</td>\n",
       "      <td>San Francisco</td>\n",
       "      <td>23.98</td>\n",
       "    </tr>\n",
       "    <tr>\n",
       "      <th>2019-01-05 20:33:00</th>\n",
       "      <td>141237</td>\n",
       "      <td>27in FHD Monitor</td>\n",
       "      <td>1</td>\n",
       "      <td>149.99</td>\n",
       "      <td>738 10th St, Los Angeles, CA 90001</td>\n",
       "      <td>January</td>\n",
       "      <td>1</td>\n",
       "      <td>high-level</td>\n",
       "      <td>Los Angeles</td>\n",
       "      <td>149.99</td>\n",
       "    </tr>\n",
       "    <tr>\n",
       "      <th>2019-01-25 11:59:00</th>\n",
       "      <td>141238</td>\n",
       "      <td>Wired Headphones</td>\n",
       "      <td>1</td>\n",
       "      <td>11.99</td>\n",
       "      <td>387 10th St, Austin, TX 73301</td>\n",
       "      <td>January</td>\n",
       "      <td>4</td>\n",
       "      <td>basic level</td>\n",
       "      <td>Austin</td>\n",
       "      <td>11.99</td>\n",
       "    </tr>\n",
       "    <tr>\n",
       "      <th>...</th>\n",
       "      <td>...</td>\n",
       "      <td>...</td>\n",
       "      <td>...</td>\n",
       "      <td>...</td>\n",
       "      <td>...</td>\n",
       "      <td>...</td>\n",
       "      <td>...</td>\n",
       "      <td>...</td>\n",
       "      <td>...</td>\n",
       "      <td>...</td>\n",
       "    </tr>\n",
       "    <tr>\n",
       "      <th>2019-11-19 14:17:00</th>\n",
       "      <td>295660.0</td>\n",
       "      <td>AAA Batteries (4-pack)</td>\n",
       "      <td>2</td>\n",
       "      <td>2.99</td>\n",
       "      <td>574 4th St, Los Angeles, CA 90001</td>\n",
       "      <td>November</td>\n",
       "      <td>47</td>\n",
       "      <td>basic level</td>\n",
       "      <td>Los Angeles</td>\n",
       "      <td>5.98</td>\n",
       "    </tr>\n",
       "    <tr>\n",
       "      <th>2019-11-19 07:22:00</th>\n",
       "      <td>295661.0</td>\n",
       "      <td>USB-C Charging Cable</td>\n",
       "      <td>1</td>\n",
       "      <td>11.95</td>\n",
       "      <td>359 1st St, Austin, TX 73301</td>\n",
       "      <td>November</td>\n",
       "      <td>47</td>\n",
       "      <td>basic level</td>\n",
       "      <td>Austin</td>\n",
       "      <td>11.95</td>\n",
       "    </tr>\n",
       "    <tr>\n",
       "      <th>2019-11-19 16:12:00</th>\n",
       "      <td>295662.0</td>\n",
       "      <td>Lightning Charging Cable</td>\n",
       "      <td>1</td>\n",
       "      <td>14.95</td>\n",
       "      <td>900 10th St, Boston, MA 02215</td>\n",
       "      <td>November</td>\n",
       "      <td>47</td>\n",
       "      <td>basic level</td>\n",
       "      <td>Boston</td>\n",
       "      <td>14.95</td>\n",
       "    </tr>\n",
       "    <tr>\n",
       "      <th>2019-11-19 17:08:00</th>\n",
       "      <td>295663.0</td>\n",
       "      <td>AAA Batteries (4-pack)</td>\n",
       "      <td>1</td>\n",
       "      <td>2.99</td>\n",
       "      <td>592 Sunset St, Boston, MA 02215</td>\n",
       "      <td>November</td>\n",
       "      <td>47</td>\n",
       "      <td>basic level</td>\n",
       "      <td>Boston</td>\n",
       "      <td>2.99</td>\n",
       "    </tr>\n",
       "    <tr>\n",
       "      <th>2019-11-19 16:13:00</th>\n",
       "      <td>295664.0</td>\n",
       "      <td>Google Phone</td>\n",
       "      <td>1</td>\n",
       "      <td>600.00</td>\n",
       "      <td>428 Jackson St, Boston, MA 02215</td>\n",
       "      <td>November</td>\n",
       "      <td>47</td>\n",
       "      <td>high-level</td>\n",
       "      <td>Boston</td>\n",
       "      <td>600.00</td>\n",
       "    </tr>\n",
       "  </tbody>\n",
       "</table>\n",
       "<p>160737 rows × 10 columns</p>\n",
       "</div>"
      ],
      "text/plain": [
       "                     Order ID                   Product  Quantity Ordered  \\\n",
       "Date                                                                        \n",
       "2019-01-22 21:25:00    141234                    iPhone                 1   \n",
       "2019-01-28 14:15:00    141235  Lightning Charging Cable                 1   \n",
       "2019-01-17 13:33:00    141236          Wired Headphones                 2   \n",
       "2019-01-05 20:33:00    141237          27in FHD Monitor                 1   \n",
       "2019-01-25 11:59:00    141238          Wired Headphones                 1   \n",
       "...                       ...                       ...               ...   \n",
       "2019-11-19 14:17:00  295660.0    AAA Batteries (4-pack)                 2   \n",
       "2019-11-19 07:22:00  295661.0      USB-C Charging Cable                 1   \n",
       "2019-11-19 16:12:00  295662.0  Lightning Charging Cable                 1   \n",
       "2019-11-19 17:08:00  295663.0    AAA Batteries (4-pack)                 1   \n",
       "2019-11-19 16:13:00  295664.0              Google Phone                 1   \n",
       "\n",
       "                     Unit Price                       Purchase Address  \\\n",
       "Date                                                                     \n",
       "2019-01-22 21:25:00      700.00        944 Walnut St, Boston, MA 02215   \n",
       "2019-01-28 14:15:00       14.95       185 Maple St, Portland, OR 97035   \n",
       "2019-01-17 13:33:00       11.99  538 Adams St, San Francisco, CA 94016   \n",
       "2019-01-05 20:33:00      149.99     738 10th St, Los Angeles, CA 90001   \n",
       "2019-01-25 11:59:00       11.99          387 10th St, Austin, TX 73301   \n",
       "...                         ...                                    ...   \n",
       "2019-11-19 14:17:00        2.99      574 4th St, Los Angeles, CA 90001   \n",
       "2019-11-19 07:22:00       11.95           359 1st St, Austin, TX 73301   \n",
       "2019-11-19 16:12:00       14.95          900 10th St, Boston, MA 02215   \n",
       "2019-11-19 17:08:00        2.99        592 Sunset St, Boston, MA 02215   \n",
       "2019-11-19 16:13:00      600.00       428 Jackson St, Boston, MA 02215   \n",
       "\n",
       "                        Month  Week Product Class            City  Revenue  \n",
       "Date                                                                        \n",
       "2019-01-22 21:25:00   January     4    high-level          Boston   700.00  \n",
       "2019-01-28 14:15:00   January     5   basic level        Portland    14.95  \n",
       "2019-01-17 13:33:00   January     3   basic level   San Francisco    23.98  \n",
       "2019-01-05 20:33:00   January     1    high-level     Los Angeles   149.99  \n",
       "2019-01-25 11:59:00   January     4   basic level          Austin    11.99  \n",
       "...                       ...   ...           ...             ...      ...  \n",
       "2019-11-19 14:17:00  November    47   basic level     Los Angeles     5.98  \n",
       "2019-11-19 07:22:00  November    47   basic level          Austin    11.95  \n",
       "2019-11-19 16:12:00  November    47   basic level          Boston    14.95  \n",
       "2019-11-19 17:08:00  November    47   basic level          Boston     2.99  \n",
       "2019-11-19 16:13:00  November    47    high-level          Boston   600.00  \n",
       "\n",
       "[160737 rows x 10 columns]"
      ]
     },
     "execution_count": 73,
     "metadata": {},
     "output_type": "execute_result"
    }
   ],
   "source": [
    "df"
   ]
  },
  {
   "cell_type": "code",
   "execution_count": 74,
   "metadata": {},
   "outputs": [],
   "source": [
    "# Format the Unit Price and Revenue columns to have 2 decimal places \n",
    "df['Unit Price'] = df['Unit Price'].round(2)\n",
    "df['Revenue'] = df['Revenue'].round(2)"
   ]
  },
  {
   "cell_type": "code",
   "execution_count": 75,
   "metadata": {},
   "outputs": [
    {
     "data": {
      "text/html": [
       "<div>\n",
       "<style scoped>\n",
       "    .dataframe tbody tr th:only-of-type {\n",
       "        vertical-align: middle;\n",
       "    }\n",
       "\n",
       "    .dataframe tbody tr th {\n",
       "        vertical-align: top;\n",
       "    }\n",
       "\n",
       "    .dataframe thead th {\n",
       "        text-align: right;\n",
       "    }\n",
       "</style>\n",
       "<table border=\"1\" class=\"dataframe\">\n",
       "  <thead>\n",
       "    <tr style=\"text-align: right;\">\n",
       "      <th></th>\n",
       "      <th>Order ID</th>\n",
       "      <th>Product</th>\n",
       "      <th>Quantity Ordered</th>\n",
       "      <th>Unit Price</th>\n",
       "      <th>Purchase Address</th>\n",
       "      <th>Month</th>\n",
       "      <th>Week</th>\n",
       "      <th>Product Class</th>\n",
       "      <th>City</th>\n",
       "      <th>Revenue</th>\n",
       "    </tr>\n",
       "    <tr>\n",
       "      <th>Date</th>\n",
       "      <th></th>\n",
       "      <th></th>\n",
       "      <th></th>\n",
       "      <th></th>\n",
       "      <th></th>\n",
       "      <th></th>\n",
       "      <th></th>\n",
       "      <th></th>\n",
       "      <th></th>\n",
       "      <th></th>\n",
       "    </tr>\n",
       "  </thead>\n",
       "  <tbody>\n",
       "    <tr>\n",
       "      <th>2019-01-22 21:25:00</th>\n",
       "      <td>141234</td>\n",
       "      <td>iPhone</td>\n",
       "      <td>1</td>\n",
       "      <td>700.00</td>\n",
       "      <td>944 Walnut St, Boston, MA 02215</td>\n",
       "      <td>January</td>\n",
       "      <td>4</td>\n",
       "      <td>high-level</td>\n",
       "      <td>Boston</td>\n",
       "      <td>700.00</td>\n",
       "    </tr>\n",
       "    <tr>\n",
       "      <th>2019-01-28 14:15:00</th>\n",
       "      <td>141235</td>\n",
       "      <td>Lightning Charging Cable</td>\n",
       "      <td>1</td>\n",
       "      <td>14.95</td>\n",
       "      <td>185 Maple St, Portland, OR 97035</td>\n",
       "      <td>January</td>\n",
       "      <td>5</td>\n",
       "      <td>basic level</td>\n",
       "      <td>Portland</td>\n",
       "      <td>14.95</td>\n",
       "    </tr>\n",
       "    <tr>\n",
       "      <th>2019-01-17 13:33:00</th>\n",
       "      <td>141236</td>\n",
       "      <td>Wired Headphones</td>\n",
       "      <td>2</td>\n",
       "      <td>11.99</td>\n",
       "      <td>538 Adams St, San Francisco, CA 94016</td>\n",
       "      <td>January</td>\n",
       "      <td>3</td>\n",
       "      <td>basic level</td>\n",
       "      <td>San Francisco</td>\n",
       "      <td>23.98</td>\n",
       "    </tr>\n",
       "    <tr>\n",
       "      <th>2019-01-05 20:33:00</th>\n",
       "      <td>141237</td>\n",
       "      <td>27in FHD Monitor</td>\n",
       "      <td>1</td>\n",
       "      <td>149.99</td>\n",
       "      <td>738 10th St, Los Angeles, CA 90001</td>\n",
       "      <td>January</td>\n",
       "      <td>1</td>\n",
       "      <td>high-level</td>\n",
       "      <td>Los Angeles</td>\n",
       "      <td>149.99</td>\n",
       "    </tr>\n",
       "    <tr>\n",
       "      <th>2019-01-25 11:59:00</th>\n",
       "      <td>141238</td>\n",
       "      <td>Wired Headphones</td>\n",
       "      <td>1</td>\n",
       "      <td>11.99</td>\n",
       "      <td>387 10th St, Austin, TX 73301</td>\n",
       "      <td>January</td>\n",
       "      <td>4</td>\n",
       "      <td>basic level</td>\n",
       "      <td>Austin</td>\n",
       "      <td>11.99</td>\n",
       "    </tr>\n",
       "    <tr>\n",
       "      <th>...</th>\n",
       "      <td>...</td>\n",
       "      <td>...</td>\n",
       "      <td>...</td>\n",
       "      <td>...</td>\n",
       "      <td>...</td>\n",
       "      <td>...</td>\n",
       "      <td>...</td>\n",
       "      <td>...</td>\n",
       "      <td>...</td>\n",
       "      <td>...</td>\n",
       "    </tr>\n",
       "    <tr>\n",
       "      <th>2019-11-19 14:17:00</th>\n",
       "      <td>295660.0</td>\n",
       "      <td>AAA Batteries (4-pack)</td>\n",
       "      <td>2</td>\n",
       "      <td>2.99</td>\n",
       "      <td>574 4th St, Los Angeles, CA 90001</td>\n",
       "      <td>November</td>\n",
       "      <td>47</td>\n",
       "      <td>basic level</td>\n",
       "      <td>Los Angeles</td>\n",
       "      <td>5.98</td>\n",
       "    </tr>\n",
       "    <tr>\n",
       "      <th>2019-11-19 07:22:00</th>\n",
       "      <td>295661.0</td>\n",
       "      <td>USB-C Charging Cable</td>\n",
       "      <td>1</td>\n",
       "      <td>11.95</td>\n",
       "      <td>359 1st St, Austin, TX 73301</td>\n",
       "      <td>November</td>\n",
       "      <td>47</td>\n",
       "      <td>basic level</td>\n",
       "      <td>Austin</td>\n",
       "      <td>11.95</td>\n",
       "    </tr>\n",
       "    <tr>\n",
       "      <th>2019-11-19 16:12:00</th>\n",
       "      <td>295662.0</td>\n",
       "      <td>Lightning Charging Cable</td>\n",
       "      <td>1</td>\n",
       "      <td>14.95</td>\n",
       "      <td>900 10th St, Boston, MA 02215</td>\n",
       "      <td>November</td>\n",
       "      <td>47</td>\n",
       "      <td>basic level</td>\n",
       "      <td>Boston</td>\n",
       "      <td>14.95</td>\n",
       "    </tr>\n",
       "    <tr>\n",
       "      <th>2019-11-19 17:08:00</th>\n",
       "      <td>295663.0</td>\n",
       "      <td>AAA Batteries (4-pack)</td>\n",
       "      <td>1</td>\n",
       "      <td>2.99</td>\n",
       "      <td>592 Sunset St, Boston, MA 02215</td>\n",
       "      <td>November</td>\n",
       "      <td>47</td>\n",
       "      <td>basic level</td>\n",
       "      <td>Boston</td>\n",
       "      <td>2.99</td>\n",
       "    </tr>\n",
       "    <tr>\n",
       "      <th>2019-11-19 16:13:00</th>\n",
       "      <td>295664.0</td>\n",
       "      <td>Google Phone</td>\n",
       "      <td>1</td>\n",
       "      <td>600.00</td>\n",
       "      <td>428 Jackson St, Boston, MA 02215</td>\n",
       "      <td>November</td>\n",
       "      <td>47</td>\n",
       "      <td>high-level</td>\n",
       "      <td>Boston</td>\n",
       "      <td>600.00</td>\n",
       "    </tr>\n",
       "  </tbody>\n",
       "</table>\n",
       "<p>160737 rows × 10 columns</p>\n",
       "</div>"
      ],
      "text/plain": [
       "                     Order ID                   Product  Quantity Ordered  \\\n",
       "Date                                                                        \n",
       "2019-01-22 21:25:00    141234                    iPhone                 1   \n",
       "2019-01-28 14:15:00    141235  Lightning Charging Cable                 1   \n",
       "2019-01-17 13:33:00    141236          Wired Headphones                 2   \n",
       "2019-01-05 20:33:00    141237          27in FHD Monitor                 1   \n",
       "2019-01-25 11:59:00    141238          Wired Headphones                 1   \n",
       "...                       ...                       ...               ...   \n",
       "2019-11-19 14:17:00  295660.0    AAA Batteries (4-pack)                 2   \n",
       "2019-11-19 07:22:00  295661.0      USB-C Charging Cable                 1   \n",
       "2019-11-19 16:12:00  295662.0  Lightning Charging Cable                 1   \n",
       "2019-11-19 17:08:00  295663.0    AAA Batteries (4-pack)                 1   \n",
       "2019-11-19 16:13:00  295664.0              Google Phone                 1   \n",
       "\n",
       "                     Unit Price                       Purchase Address  \\\n",
       "Date                                                                     \n",
       "2019-01-22 21:25:00      700.00        944 Walnut St, Boston, MA 02215   \n",
       "2019-01-28 14:15:00       14.95       185 Maple St, Portland, OR 97035   \n",
       "2019-01-17 13:33:00       11.99  538 Adams St, San Francisco, CA 94016   \n",
       "2019-01-05 20:33:00      149.99     738 10th St, Los Angeles, CA 90001   \n",
       "2019-01-25 11:59:00       11.99          387 10th St, Austin, TX 73301   \n",
       "...                         ...                                    ...   \n",
       "2019-11-19 14:17:00        2.99      574 4th St, Los Angeles, CA 90001   \n",
       "2019-11-19 07:22:00       11.95           359 1st St, Austin, TX 73301   \n",
       "2019-11-19 16:12:00       14.95          900 10th St, Boston, MA 02215   \n",
       "2019-11-19 17:08:00        2.99        592 Sunset St, Boston, MA 02215   \n",
       "2019-11-19 16:13:00      600.00       428 Jackson St, Boston, MA 02215   \n",
       "\n",
       "                        Month  Week Product Class            City  Revenue  \n",
       "Date                                                                        \n",
       "2019-01-22 21:25:00   January     4    high-level          Boston   700.00  \n",
       "2019-01-28 14:15:00   January     5   basic level        Portland    14.95  \n",
       "2019-01-17 13:33:00   January     3   basic level   San Francisco    23.98  \n",
       "2019-01-05 20:33:00   January     1    high-level     Los Angeles   149.99  \n",
       "2019-01-25 11:59:00   January     4   basic level          Austin    11.99  \n",
       "...                       ...   ...           ...             ...      ...  \n",
       "2019-11-19 14:17:00  November    47   basic level     Los Angeles     5.98  \n",
       "2019-11-19 07:22:00  November    47   basic level          Austin    11.95  \n",
       "2019-11-19 16:12:00  November    47   basic level          Boston    14.95  \n",
       "2019-11-19 17:08:00  November    47   basic level          Boston     2.99  \n",
       "2019-11-19 16:13:00  November    47    high-level          Boston   600.00  \n",
       "\n",
       "[160737 rows x 10 columns]"
      ]
     },
     "execution_count": 75,
     "metadata": {},
     "output_type": "execute_result"
    }
   ],
   "source": [
    "df"
   ]
  },
  {
   "cell_type": "markdown",
   "metadata": {},
   "source": [
    "##### Create Seasons for the Data. In this case Quarters\n"
   ]
  },
  {
   "cell_type": "code",
   "execution_count": 76,
   "metadata": {},
   "outputs": [],
   "source": [
    "# Define a custom function to map months to quarters\n",
    "def map_month_to_quarter(month):\n",
    "    if month in ['January', 'February', 'March']:\n",
    "        return 'Q1'\n",
    "    elif month in ['April', 'May', 'June']:\n",
    "        return 'Q2'\n",
    "    elif month in ['July', 'August', 'September']:\n",
    "        return 'Q3'\n",
    "    elif month in ['October', 'November', 'December']:\n",
    "        return 'Q4'\n",
    "    else:\n",
    "        return None"
   ]
  },
  {
   "cell_type": "code",
   "execution_count": 77,
   "metadata": {},
   "outputs": [],
   "source": [
    "# Create the 'Quarter' column using the custom function\n",
    "df['Quarter'] = df['Month'].apply(map_month_to_quarter)"
   ]
  },
  {
   "cell_type": "code",
   "execution_count": 78,
   "metadata": {},
   "outputs": [
    {
     "data": {
      "text/plain": [
       "array(['Q1', 'Q2', 'Q3', 'Q4'], dtype=object)"
      ]
     },
     "execution_count": 78,
     "metadata": {},
     "output_type": "execute_result"
    }
   ],
   "source": [
    "df['Quarter'].unique()"
   ]
  },
  {
   "cell_type": "markdown",
   "metadata": {},
   "source": [
    "### Save the dataframe"
   ]
  },
  {
   "cell_type": "code",
   "execution_count": 79,
   "metadata": {},
   "outputs": [],
   "source": [
    "df.to_csv('Cleaned Data.csv')"
   ]
  },
  {
   "cell_type": "markdown",
   "metadata": {},
   "source": [
    "### EXPLORATORY DATA ANALYSIS\n",
    "#### Client's Questions & Answers"
   ]
  },
  {
   "cell_type": "markdown",
   "metadata": {},
   "source": [
    "##### 1. How much money did we make this year? "
   ]
  },
  {
   "cell_type": "code",
   "execution_count": 80,
   "metadata": {},
   "outputs": [
    {
     "name": "stdout",
     "output_type": "stream",
     "text": [
      "We made $29851388.46 in the year 2019\n"
     ]
    }
   ],
   "source": [
    "# Find the sum of the 'Revenue' column \n",
    "revenue_sum = df['Revenue'].sum()\n",
    "\n",
    "# Round revenue_sum to 2 decimal places\n",
    "rounded_revenue = round(revenue_sum, 2)\n",
    "\n",
    "print(f'We made ${rounded_revenue} in the year 2019')"
   ]
  },
  {
   "cell_type": "markdown",
   "metadata": {},
   "source": [
    "##### 2. Can we identify any seasonality in the  sales?"
   ]
  },
  {
   "cell_type": "code",
   "execution_count": 81,
   "metadata": {},
   "outputs": [],
   "source": [
    "# Group the DataFrame by the 'Quarter' column and calculate the sum of 'Quantity Ordered' for each group\n",
    "quarterly_sales = df.groupby('Quarter')['Quantity Ordered'].sum()"
   ]
  },
  {
   "cell_type": "code",
   "execution_count": 82,
   "metadata": {
    "scrolled": true
   },
   "outputs": [
    {
     "name": "stdout",
     "output_type": "stream",
     "text": [
      "Sum of Sales for Each Quarter:\n",
      "Quarter\n",
      "Q1    41262\n",
      "Q2    54423\n",
      "Q3    42574\n",
      "Q4    42472\n",
      "Name: Quantity Ordered, dtype: int64\n"
     ]
    }
   ],
   "source": [
    "# Print the sum of quantities sold for each quarter\n",
    "print(\"Sum of Sales for Each Quarter:\")\n",
    "print(quarterly_sales)"
   ]
  },
  {
   "cell_type": "code",
   "execution_count": 83,
   "metadata": {},
   "outputs": [
    {
     "data": {
      "image/png": "[encoded data removed]",
      "text/plain": [
       "<Figure size 576x432 with 1 Axes>"
      ]
     },
     "metadata": {},
     "output_type": "display_data"
    }
   ],
   "source": [
    "# Visualize the data\n",
    "quarterly_sales = {\n",
    "    'Q1': 41316,\n",
    "    'Q2': 54478,\n",
    "    'Q3': 42629,\n",
    "    'Q4': 42535,\n",
    "}\n",
    "# Create a DataFrame from the quarterly_sales dictionary\n",
    "data = {'Quarter': list(quarterly_sales.keys()), 'Quantity Ordered': list(quarterly_sales.values())}\n",
    "dfq = pd.DataFrame(data)\n",
    "\n",
    "# Create a bar plot using Seaborn\n",
    "sns.set(style=\"whitegrid\")\n",
    "plt.figure(figsize=(8, 6))\n",
    "plot = sns.barplot(x='Quarter', y='Quantity Ordered', data=dfq, palette=\"viridis\")\n",
    "plt.title(\"Total Sales by Quarter\")\n",
    "plt.xlabel(\"Quarter\")\n",
    "plt.ylabel(\"Total Sales\")\n",
    "\n",
    "# Annotate the bars with their values\n",
    "for index, row in dfq.iterrows():\n",
    "    plot.text(index, row['Quantity Ordered'], f\"{row['Quantity Ordered']:.2f}\", color='black', ha=\"center\")\n",
    "\n",
    "plt.show()"
   ]
  },
  {
   "cell_type": "markdown",
   "metadata": {},
   "source": [
    "##### 3. What are our best and worst-selling products? "
   ]
  },
  {
   "cell_type": "code",
   "execution_count": 84,
   "metadata": {},
   "outputs": [],
   "source": [
    "# Group the 'Products' by the sum of the 'Quantities Ordered'\n",
    "product_sales = df.groupby('Product')['Quantity Ordered'].sum()"
   ]
  },
  {
   "cell_type": "code",
   "execution_count": 85,
   "metadata": {},
   "outputs": [
    {
     "name": "stdout",
     "output_type": "stream",
     "text": [
      "Sum of Sales for Each Quarter:\n",
      "Product\n",
      "20in Monitor                   3555\n",
      "27in 4K Gaming Monitor         5380\n",
      "27in FHD Monitor               6576\n",
      "34in Ultrawide Monitor         5344\n",
      "AA Batteries (4-pack)         23902\n",
      "AAA Batteries (4-pack)        26749\n",
      "Apple Airpods Headphones      13563\n",
      "Bose SoundSport Headphones    11609\n",
      "Flatscreen TV                  4150\n",
      "Google Phone                   4813\n",
      "LG Dryer                        560\n",
      "LG Washing Machine              586\n",
      "Lightning Charging Cable      20086\n",
      "Macbook Pro Laptop             4081\n",
      "ThinkPad Laptop                3589\n",
      "USB-C Charging Cable          20681\n",
      "Vareebadd Phone                1783\n",
      "Wired Headphones              17785\n",
      "iPhone                         5939\n",
      "Name: Quantity Ordered, dtype: int64\n"
     ]
    }
   ],
   "source": [
    "# Print the sales of each product \n",
    "print(\"Sum of Sales for Each Quarter:\")\n",
    "print(product_sales)"
   ]
  },
  {
   "cell_type": "code",
   "execution_count": 86,
   "metadata": {},
   "outputs": [],
   "source": [
    "# Convert the Series to a dictionary\n",
    "product_sales_dict = product_sales.to_dict()\n"
   ]
  },
  {
   "cell_type": "code",
   "execution_count": 87,
   "metadata": {},
   "outputs": [],
   "source": [
    "# Create a DataFrame from the product_sales dictionary\n",
    "data = {'Product': list(product_sales_dict.keys()), 'Quantity Ordered': list(product_sales_dict.values())}\n",
    "dfp = pd.DataFrame(data)"
   ]
  },
  {
   "cell_type": "code",
   "execution_count": 88,
   "metadata": {},
   "outputs": [
    {
     "data": {
      "image/png": "[encoded data removed]",
      "text/plain": [
       "<Figure size 720x432 with 1 Axes>"
      ]
     },
     "metadata": {},
     "output_type": "display_data"
    }
   ],
   "source": [
    "# Sort the DataFrame by 'Quantity Ordered' in descending order for a better plot\n",
    "dfp = dfp.sort_values(by='Quantity Ordered', ascending=False)\n",
    "\n",
    "# Create a bar plot using Seaborn\n",
    "sns.set(style=\"whitegrid\")\n",
    "plt.figure(figsize=(10, 6))\n",
    "plot = sns.barplot(x='Quantity Ordered', y='Product', data=dfp, palette=\"viridis\")\n",
    "plt.title(\"Total Sales by Product\")\n",
    "plt.xlabel(\"Quantity Ordered\")\n",
    "plt.ylabel(\"Product\")\n",
    "\n",
    "# Annotate the bars with their values\n",
    "for index, row in dfp.iterrows():\n",
    "    plot.text(row['Quantity Ordered'], index, f\"{row['Quantity Ordered']}\", color='black', ha=\"left\")\n",
    "\n",
    "plt.show()"
   ]
  },
  {
   "cell_type": "markdown",
   "metadata": {},
   "source": [
    "##### From the above graph we can see that the best selling product is AAA Batteries(4-pack) and the worst selling product is LG Dryer"
   ]
  },
  {
   "cell_type": "markdown",
   "metadata": {},
   "source": [
    "##### 4. How do sales compare to previous months or weeks? "
   ]
  },
  {
   "cell_type": "code",
   "execution_count": 89,
   "metadata": {},
   "outputs": [],
   "source": [
    "# Define the custom order for months\n",
    "custom_order = [\n",
    "    'January', 'February', 'March', 'April', 'May', 'June',\n",
    "    'July', 'August', 'September', 'October', 'November', 'December'\n",
    "]"
   ]
  },
  {
   "cell_type": "code",
   "execution_count": 90,
   "metadata": {},
   "outputs": [],
   "source": [
    "# Convert the 'Month' column to a Categorical data type with the custom order\n",
    "df['Month'] = pd.Categorical(df['Month'], categories=custom_order, ordered=True)\n"
   ]
  },
  {
   "cell_type": "code",
   "execution_count": 91,
   "metadata": {},
   "outputs": [
    {
     "data": {
      "text/plain": [
       "Month\n",
       "January      1812742.87\n",
       "February     2200078.08\n",
       "March        2804973.35\n",
       "April        3389217.98\n",
       "May          3150616.23\n",
       "June         2576280.15\n",
       "July         2646461.32\n",
       "August       2241083.37\n",
       "September    2094465.69\n",
       "October      3734777.86\n",
       "November     3197875.05\n",
       "December        2816.51\n",
       "Name: Revenue, dtype: float64"
      ]
     },
     "execution_count": 91,
     "metadata": {},
     "output_type": "execute_result"
    }
   ],
   "source": [
    "# Group the 'Month' by the sum of the 'Quantities Ordered'\n",
    "month_sales = df.groupby('Month')['Revenue'].sum()\n",
    "month_sales"
   ]
  },
  {
   "cell_type": "code",
   "execution_count": 92,
   "metadata": {},
   "outputs": [],
   "source": [
    "# Turn the month_sales dataframe into a dictionary\n",
    "month_sales = {\n",
    "    'January': 10852,\n",
    "    'February': 13431,\n",
    "    'March': 16979,\n",
    "    'April': 20536,\n",
    "    'May': 18653,\n",
    "    'June': 15234,\n",
    "    'July': 16054,\n",
    "    'August': 13429,\n",
    "    'September': 13091,\n",
    "    'October': 22669,\n",
    "    'November': 19769,\n",
    "    'December': 34,\n",
    "}"
   ]
  },
  {
   "cell_type": "code",
   "execution_count": 93,
   "metadata": {},
   "outputs": [
    {
     "data": {
      "image/png": "[encoded data removed]",
      "text/plain": [
       "<Figure size 720x432 with 1 Axes>"
      ]
     },
     "metadata": {},
     "output_type": "display_data"
    }
   ],
   "source": [
    "# Create a DataFrame from the month_sales dictionary\n",
    "data = {'Month': list(month_sales.keys()), 'Quantity Ordered': list(month_sales.values())}\n",
    "dfm = pd.DataFrame(data)\n",
    "\n",
    "# Set the 'Month' column as categorical with the custom order\n",
    "df['Month'] = pd.Categorical(df['Month'], categories=custom_order, ordered=True)\n",
    "\n",
    "# Sort the DataFrame by the custom order\n",
    "df = df.sort_values('Month')\n",
    "\n",
    "# Create a bar plot using Seaborn\n",
    "sns.set(style=\"whitegrid\")\n",
    "plt.figure(figsize=(10, 6))\n",
    "plot = sns.barplot(x='Month', y='Quantity Ordered', data=dfm, palette=\"viridis\")\n",
    "plt.title(\"Monthly Sales\")\n",
    "plt.xlabel(\"Month\")\n",
    "plt.ylabel(\"Quantity Ordered\")\n",
    "\n",
    "# Annotate the bars with their values\n",
    "for index, row in dfm.iterrows():\n",
    "    plot.text(index, row['Quantity Ordered'], f\"{row['Quantity Ordered']}\", color='black', ha=\"center\")\n",
    "\n",
    "plt.xticks(rotation=45)  # Rotate the x-axis labels for better readability\n",
    "plt.show()"
   ]
  },
  {
   "cell_type": "code",
   "execution_count": 94,
   "metadata": {},
   "outputs": [
    {
     "data": {
      "text/plain": [
       "Week\n",
       "1      344678.73\n",
       "2      409389.43\n",
       "3      394921.11\n",
       "4      426020.17\n",
       "5      459570.62\n",
       "6      565300.05\n",
       "7      568199.28\n",
       "8      535207.51\n",
       "9      578306.44\n",
       "10     640496.38\n",
       "11     595771.07\n",
       "12     629060.55\n",
       "13     670872.96\n",
       "14     774492.97\n",
       "15     761454.22\n",
       "16     805297.45\n",
       "17     808694.68\n",
       "18     764462.62\n",
       "19     729309.99\n",
       "20     695631.88\n",
       "21     709784.55\n",
       "22     668240.16\n",
       "23     616368.48\n",
       "24     594043.83\n",
       "25     611609.50\n",
       "26     576724.03\n",
       "27       3028.38\n",
       "29    2643432.94\n",
       "34    2241083.37\n",
       "38    2094465.69\n",
       "42    3734777.86\n",
       "47    3197875.05\n",
       "51       2816.51\n",
       "Name: Revenue, dtype: float64"
      ]
     },
     "execution_count": 94,
     "metadata": {},
     "output_type": "execute_result"
    }
   ],
   "source": [
    "# Group the 'Week' by the sum of the 'Revenue'\n",
    "week_sales = df.groupby('Week')['Revenue'].sum()\n",
    "week_sales"
   ]
  },
  {
   "cell_type": "code",
   "execution_count": 95,
   "metadata": {},
   "outputs": [],
   "source": [
    "# Sample data (replace with your weekly sales data)\n",
    "week_sales = {\n",
    "    1: 344678.73,\n",
    "    2: 409389.43,\n",
    "    3: 394921.11,\n",
    "    4: 426020.17,\n",
    "    5: 459570.62,\n",
    "    6: 565300.05,\n",
    "    7: 568199.28,\n",
    "    8: 535207.51,\n",
    "    9: 578306.44,\n",
    "    10: 640496.38,\n",
    "    11: 595771.07,\n",
    "    12: 629060.55,\n",
    "    13: 670872.96,\n",
    "    14: 774492.97,\n",
    "    15: 761454.22,\n",
    "    16: 805297.45,\n",
    "    17: 808694.68,\n",
    "    18: 764462.62,\n",
    "    19: 729309.99,\n",
    "    20: 695631.88,\n",
    "    21: 709784.55,\n",
    "    22: 668240.16,\n",
    "    23: 616368.48,\n",
    "    24: 594043.83,\n",
    "    25: 611609.50,\n",
    "    26: 576724.03,\n",
    "    27: 3028.38,\n",
    "    29: 2643432.94,\n",
    "    34: 2241083.37,\n",
    "    38: 2094465.69,\n",
    "    42: 3734777.86,\n",
    "    47: 3197875.05,\n",
    "    51: 2816.51,\n",
    "}"
   ]
  },
  {
   "cell_type": "code",
   "execution_count": 96,
   "metadata": {
    "scrolled": true
   },
   "outputs": [
    {
     "data": {
      "image/png": "[encoded data removed]",
      "text/plain": [
       "<Figure size 864x432 with 1 Axes>"
      ]
     },
     "metadata": {},
     "output_type": "display_data"
    }
   ],
   "source": [
    "# Create a DataFrame from the week_sales dictionary\n",
    "data = {'Week': list(week_sales.keys()), 'Revenue': list(week_sales.values())}\n",
    "dfw = pd.DataFrame(data)\n",
    "\n",
    "# Create a bar plot using Seaborn\n",
    "sns.set(style=\"whitegrid\")\n",
    "plt.figure(figsize=(12, 6))\n",
    "plot = sns.barplot(x='Week', y='Revenue', data=dfw, palette=\"viridis\")\n",
    "plt.title(\"Weekly Sales\")\n",
    "plt.xlabel(\"Week\")\n",
    "plt.ylabel(\"Revenue\")\n",
    "\n",
    "plt.xticks(rotation=45)  # Rotate the x-axis labels for better readability\n",
    "plt.show()"
   ]
  },
  {
   "cell_type": "markdown",
   "metadata": {},
   "source": [
    "##### 5. Which cities are our products delivered to most?"
   ]
  },
  {
   "cell_type": "code",
   "execution_count": 102,
   "metadata": {},
   "outputs": [
    {
     "data": {
      "text/plain": [
       "City\n",
       " San Francisco    38656\n",
       " Los Angeles      25677\n",
       " New York City    21442\n",
       " Boston           17206\n",
       " Atlanta          12877\n",
       " Dallas           12793\n",
       " Seattle          12739\n",
       " Portland         10804\n",
       " Austin            8543\n",
       "Name: count, dtype: int64"
      ]
     },
     "execution_count": 102,
     "metadata": {},
     "output_type": "execute_result"
    }
   ],
   "source": [
    "# Find the value counts of the City column \n",
    "city_counts = df['City'].value_counts()\n",
    "city_counts"
   ]
  },
  {
   "cell_type": "code",
   "execution_count": 104,
   "metadata": {},
   "outputs": [
    {
     "data": {
      "image/png": "[encoded data removed]",
      "text/plain": [
       "<Figure size 864x432 with 1 Axes>"
      ]
     },
     "metadata": {},
     "output_type": "display_data"
    }
   ],
   "source": [
    "# Create a bar plot\n",
    "plt.figure(figsize=(12, 6))\n",
    "sns.barplot(x=city_counts.index, y=city_counts.values, palette=\"viridis\")\n",
    "plt.title(\"City Counts\")\n",
    "plt.xlabel(\"City\")\n",
    "plt.ylabel(\"Count\")\n",
    "\n",
    "# Rotate x-axis labels for better readability\n",
    "plt.xticks(rotation=45)\n",
    "\n",
    "# Show the plot\n",
    "plt.show()"
   ]
  },
  {
   "cell_type": "markdown",
   "metadata": {},
   "source": [
    "##### 6. How do product categories compare in revenue generated and quantities ordered"
   ]
  },
  {
   "cell_type": "code",
   "execution_count": 109,
   "metadata": {},
   "outputs": [
    {
     "data": {
      "text/plain": [
       "Product\n",
       "20in Monitor                   391014.45\n",
       "27in 4K Gaming Monitor        2098146.20\n",
       "27in FHD Monitor               986334.24\n",
       "34in Ultrawide Monitor        2030666.56\n",
       "AA Batteries (4-pack)           91783.68\n",
       "AAA Batteries (4-pack)          79979.51\n",
       "Apple Airpods Headphones      2034450.00\n",
       "Bose SoundSport Headphones    1160783.91\n",
       "Flatscreen TV                 1245000.00\n",
       "Google Phone                  2887800.00\n",
       "LG Dryer                       336000.00\n",
       "LG Washing Machine             351600.00\n",
       "Lightning Charging Cable       300285.70\n",
       "Macbook Pro Laptop            6937700.00\n",
       "ThinkPad Laptop               3588964.11\n",
       "USB-C Charging Cable           247137.95\n",
       "Vareebadd Phone                713200.00\n",
       "Wired Headphones               213242.15\n",
       "iPhone                        4157300.00\n",
       "Name: Revenue, dtype: float64"
      ]
     },
     "execution_count": 109,
     "metadata": {},
     "output_type": "execute_result"
    }
   ],
   "source": [
    "# Find the revenue by product \n",
    "product_category_sum = df.groupby('Product')['Revenue'].sum()\n",
    "product_category_sum"
   ]
  },
  {
   "cell_type": "code",
   "execution_count": 110,
   "metadata": {},
   "outputs": [
    {
     "data": {
      "text/plain": [
       "Product\n",
       "20in Monitor                   3555\n",
       "27in 4K Gaming Monitor         5380\n",
       "27in FHD Monitor               6576\n",
       "34in Ultrawide Monitor         5344\n",
       "AA Batteries (4-pack)         23902\n",
       "AAA Batteries (4-pack)        26749\n",
       "Apple Airpods Headphones      13563\n",
       "Bose SoundSport Headphones    11609\n",
       "Flatscreen TV                  4150\n",
       "Google Phone                   4813\n",
       "LG Dryer                        560\n",
       "LG Washing Machine              586\n",
       "Lightning Charging Cable      20086\n",
       "Macbook Pro Laptop             4081\n",
       "ThinkPad Laptop                3589\n",
       "USB-C Charging Cable          20681\n",
       "Vareebadd Phone                1783\n",
       "Wired Headphones              17785\n",
       "iPhone                         5939\n",
       "Name: Quantity Ordered, dtype: int64"
      ]
     },
     "execution_count": 110,
     "metadata": {},
     "output_type": "execute_result"
    }
   ],
   "source": [
    "# Find the Quantities sold per product \n",
    "product_category_orders = df.groupby('Product')['Quantity Ordered'].sum()\n",
    "product_category_orders"
   ]
  },
  {
   "cell_type": "code",
   "execution_count": 128,
   "metadata": {},
   "outputs": [
    {
     "data": {
      "application/vnd.plotly.v1+json": {
       "config": {
        "plotlyServerURL": "https://plot.ly"
       },
       "data": [
        {
         "hovertemplate": "Revenue (in millions)=%{x}<br>Quantity Ordered(k=1000)=%{y}<br>Product=%{text}<extra></extra>",
         "legendgroup": "",
         "marker": {
          "color": "#636efa",
          "symbol": "circle"
         },
         "mode": "markers+text",
         "name": "",
         "orientation": "v",
         "showlegend": false,
         "text": [
          "20in Monitor",
          "27in 4K Gaming Monitor",
          "27in FHD Monitor",
          "34in Ultrawide Monitor",
          "AA Batteries (4-pack)",
          "AAA Batteries (4-pack)",
          "Apple Airpods Headphones",
          "Bose SoundSport Headphones",
          "Flatscreen TV",
          "Google Phone",
          "LG Dryer",
          "LG Washing Machine",
          "Lightning Charging Cable",
          "Macbook Pro Laptop",
          "ThinkPad Laptop",
          "USB-C Charging Cable",
          "Vareebadd Phone",
          "Wired Headphones",
          "iPhone"
         ],
         "textposition": "top center",
         "type": "scatter",
         "x": [
          391014.44999999995,
          2098146.2,
          986334.2400000001,
          2030666.56,
          91783.68,
          79979.51000000001,
          2034450,
          1160783.91,
          1245000,
          2887800,
          336000,
          351600,
          300285.7,
          6937700,
          3588964.11,
          247137.94999999998,
          713200,
          213242.15,
          4157300
         ],
         "xaxis": "x",
         "y": [
          3555,
          5380,
          6576,
          5344,
          23902,
          26749,
          13563,
          11609,
          4150,
          4813,
          560,
          586,
          20086,
          4081,
          3589,
          20681,
          1783,
          17785,
          5939
         ],
         "yaxis": "y"
        }
       ],
       "layout": {
        "legend": {
         "tracegroupgap": 0
        },
        "template": {
         "data": {
          "bar": [
           {
            "error_x": {
             "color": "#f2f5fa"
            },
            "error_y": {
             "color": "#f2f5fa"
            },
            "marker": {
             "line": {
              "color": "rgb(17,17,17)",
              "width": 0.5
             },
             "pattern": {
              "fillmode": "overlay",
              "size": 10,
              "solidity": 0.2
             }
            },
            "type": "bar"
           }
          ],
          "barpolar": [
           {
            "marker": {
             "line": {
              "color": "rgb(17,17,17)",
              "width": 0.5
             },
             "pattern": {
              "fillmode": "overlay",
              "size": 10,
              "solidity": 0.2
             }
            },
            "type": "barpolar"
           }
          ],
          "carpet": [
           {
            "aaxis": {
             "endlinecolor": "#A2B1C6",
             "gridcolor": "#506784",
             "linecolor": "#506784",
             "minorgridcolor": "#506784",
             "startlinecolor": "#A2B1C6"
            },
            "baxis": {
             "endlinecolor": "#A2B1C6",
             "gridcolor": "#506784",
             "linecolor": "#506784",
             "minorgridcolor": "#506784",
             "startlinecolor": "#A2B1C6"
            },
            "type": "carpet"
           }
          ],
          "choropleth": [
           {
            "colorbar": {
             "outlinewidth": 0,
             "ticks": ""
            },
            "type": "choropleth"
           }
          ],
          "contour": [
           {
            "colorbar": {
             "outlinewidth": 0,
             "ticks": ""
            },
            "colorscale": [
             [
              0,
              "#0d0887"
             ],
             [
              0.1111111111111111,
              "#46039f"
             ],
             [
              0.2222222222222222,
              "#7201a8"
             ],
             [
              0.3333333333333333,
              "#9c179e"
             ],
             [
              0.4444444444444444,
              "#bd3786"
             ],
             [
              0.5555555555555556,
              "#d8576b"
             ],
             [
              0.6666666666666666,
              "#ed7953"
             ],
             [
              0.7777777777777778,
              "#fb9f3a"
             ],
             [
              0.8888888888888888,
              "#fdca26"
             ],
             [
              1,
              "#f0f921"
             ]
            ],
            "type": "contour"
           }
          ],
          "contourcarpet": [
           {
            "colorbar": {
             "outlinewidth": 0,
             "ticks": ""
            },
            "type": "contourcarpet"
           }
          ],
          "heatmap": [
           {
            "colorbar": {
             "outlinewidth": 0,
             "ticks": ""
            },
            "colorscale": [
             [
              0,
              "#0d0887"
             ],
             [
              0.1111111111111111,
              "#46039f"
             ],
             [
              0.2222222222222222,
              "#7201a8"
             ],
             [
              0.3333333333333333,
              "#9c179e"
             ],
             [
              0.4444444444444444,
              "#bd3786"
             ],
             [
              0.5555555555555556,
              "#d8576b"
             ],
             [
              0.6666666666666666,
              "#ed7953"
             ],
             [
              0.7777777777777778,
              "#fb9f3a"
             ],
             [
              0.8888888888888888,
              "#fdca26"
             ],
             [
              1,
              "#f0f921"
             ]
            ],
            "type": "heatmap"
           }
          ],
          "heatmapgl": [
           {
            "colorbar": {
             "outlinewidth": 0,
             "ticks": ""
            },
            "colorscale": [
             [
              0,
              "#0d0887"
             ],
             [
              0.1111111111111111,
              "#46039f"
             ],
             [
              0.2222222222222222,
              "#7201a8"
             ],
             [
              0.3333333333333333,
              "#9c179e"
             ],
             [
              0.4444444444444444,
              "#bd3786"
             ],
             [
              0.5555555555555556,
              "#d8576b"
             ],
             [
              0.6666666666666666,
              "#ed7953"
             ],
             [
              0.7777777777777778,
              "#fb9f3a"
             ],
             [
              0.8888888888888888,
              "#fdca26"
             ],
             [
              1,
              "#f0f921"
             ]
            ],
            "type": "heatmapgl"
           }
          ],
          "histogram": [
           {
            "marker": {
             "pattern": {
              "fillmode": "overlay",
              "size": 10,
              "solidity": 0.2
             }
            },
            "type": "histogram"
           }
          ],
          "histogram2d": [
           {
            "colorbar": {
             "outlinewidth": 0,
             "ticks": ""
            },
            "colorscale": [
             [
              0,
              "#0d0887"
             ],
             [
              0.1111111111111111,
              "#46039f"
             ],
             [
              0.2222222222222222,
              "#7201a8"
             ],
             [
              0.3333333333333333,
              "#9c179e"
             ],
             [
              0.4444444444444444,
              "#bd3786"
             ],
             [
              0.5555555555555556,
              "#d8576b"
             ],
             [
              0.6666666666666666,
              "#ed7953"
             ],
             [
              0.7777777777777778,
              "#fb9f3a"
             ],
             [
              0.8888888888888888,
              "#fdca26"
             ],
             [
              1,
              "#f0f921"
             ]
            ],
            "type": "histogram2d"
           }
          ],
          "histogram2dcontour": [
           {
            "colorbar": {
             "outlinewidth": 0,
             "ticks": ""
            },
            "colorscale": [
             [
              0,
              "#0d0887"
             ],
             [
              0.1111111111111111,
              "#46039f"
             ],
             [
              0.2222222222222222,
              "#7201a8"
             ],
             [
              0.3333333333333333,
              "#9c179e"
             ],
             [
              0.4444444444444444,
              "#bd3786"
             ],
             [
              0.5555555555555556,
              "#d8576b"
             ],
             [
              0.6666666666666666,
              "#ed7953"
             ],
             [
              0.7777777777777778,
              "#fb9f3a"
             ],
             [
              0.8888888888888888,
              "#fdca26"
             ],
             [
              1,
              "#f0f921"
             ]
            ],
            "type": "histogram2dcontour"
           }
          ],
          "mesh3d": [
           {
            "colorbar": {
             "outlinewidth": 0,
             "ticks": ""
            },
            "type": "mesh3d"
           }
          ],
          "parcoords": [
           {
            "line": {
             "colorbar": {
              "outlinewidth": 0,
              "ticks": ""
             }
            },
            "type": "parcoords"
           }
          ],
          "pie": [
           {
            "automargin": true,
            "type": "pie"
           }
          ],
          "scatter": [
           {
            "marker": {
             "line": {
              "color": "#283442"
             }
            },
            "type": "scatter"
           }
          ],
          "scatter3d": [
           {
            "line": {
             "colorbar": {
              "outlinewidth": 0,
              "ticks": ""
             }
            },
            "marker": {
             "colorbar": {
              "outlinewidth": 0,
              "ticks": ""
             }
            },
            "type": "scatter3d"
           }
          ],
          "scattercarpet": [
           {
            "marker": {
             "colorbar": {
              "outlinewidth": 0,
              "ticks": ""
             }
            },
            "type": "scattercarpet"
           }
          ],
          "scattergeo": [
           {
            "marker": {
             "colorbar": {
              "outlinewidth": 0,
              "ticks": ""
             }
            },
            "type": "scattergeo"
           }
          ],
          "scattergl": [
           {
            "marker": {
             "line": {
              "color": "#283442"
             }
            },
            "type": "scattergl"
           }
          ],
          "scattermapbox": [
           {
            "marker": {
             "colorbar": {
              "outlinewidth": 0,
              "ticks": ""
             }
            },
            "type": "scattermapbox"
           }
          ],
          "scatterpolar": [
           {
            "marker": {
             "colorbar": {
              "outlinewidth": 0,
              "ticks": ""
             }
            },
            "type": "scatterpolar"
           }
          ],
          "scatterpolargl": [
           {
            "marker": {
             "colorbar": {
              "outlinewidth": 0,
              "ticks": ""
             }
            },
            "type": "scatterpolargl"
           }
          ],
          "scatterternary": [
           {
            "marker": {
             "colorbar": {
              "outlinewidth": 0,
              "ticks": ""
             }
            },
            "type": "scatterternary"
           }
          ],
          "surface": [
           {
            "colorbar": {
             "outlinewidth": 0,
             "ticks": ""
            },
            "colorscale": [
             [
              0,
              "#0d0887"
             ],
             [
              0.1111111111111111,
              "#46039f"
             ],
             [
              0.2222222222222222,
              "#7201a8"
             ],
             [
              0.3333333333333333,
              "#9c179e"
             ],
             [
              0.4444444444444444,
              "#bd3786"
             ],
             [
              0.5555555555555556,
              "#d8576b"
             ],
             [
              0.6666666666666666,
              "#ed7953"
             ],
             [
              0.7777777777777778,
              "#fb9f3a"
             ],
             [
              0.8888888888888888,
              "#fdca26"
             ],
             [
              1,
              "#f0f921"
             ]
            ],
            "type": "surface"
           }
          ],
          "table": [
           {
            "cells": {
             "fill": {
              "color": "#506784"
             },
             "line": {
              "color": "rgb(17,17,17)"
             }
            },
            "header": {
             "fill": {
              "color": "#2a3f5f"
             },
             "line": {
              "color": "rgb(17,17,17)"
             }
            },
            "type": "table"
           }
          ]
         },
         "layout": {
          "annotationdefaults": {
           "arrowcolor": "#f2f5fa",
           "arrowhead": 0,
           "arrowwidth": 1
          },
          "autotypenumbers": "strict",
          "coloraxis": {
           "colorbar": {
            "outlinewidth": 0,
            "ticks": ""
           }
          },
          "colorscale": {
           "diverging": [
            [
             0,
             "#8e0152"
            ],
            [
             0.1,
             "#c51b7d"
            ],
            [
             0.2,
             "#de77ae"
            ],
            [
             0.3,
             "#f1b6da"
            ],
            [
             0.4,
             "#fde0ef"
            ],
            [
             0.5,
             "#f7f7f7"
            ],
            [
             0.6,
             "#e6f5d0"
            ],
            [
             0.7,
             "#b8e186"
            ],
            [
             0.8,
             "#7fbc41"
            ],
            [
             0.9,
             "#4d9221"
            ],
            [
             1,
             "#276419"
            ]
           ],
           "sequential": [
            [
             0,
             "#0d0887"
            ],
            [
             0.1111111111111111,
             "#46039f"
            ],
            [
             0.2222222222222222,
             "#7201a8"
            ],
            [
             0.3333333333333333,
             "#9c179e"
            ],
            [
             0.4444444444444444,
             "#bd3786"
            ],
            [
             0.5555555555555556,
             "#d8576b"
            ],
            [
             0.6666666666666666,
             "#ed7953"
            ],
            [
             0.7777777777777778,
             "#fb9f3a"
            ],
            [
             0.8888888888888888,
             "#fdca26"
            ],
            [
             1,
             "#f0f921"
            ]
           ],
           "sequentialminus": [
            [
             0,
             "#0d0887"
            ],
            [
             0.1111111111111111,
             "#46039f"
            ],
            [
             0.2222222222222222,
             "#7201a8"
            ],
            [
             0.3333333333333333,
             "#9c179e"
            ],
            [
             0.4444444444444444,
             "#bd3786"
            ],
            [
             0.5555555555555556,
             "#d8576b"
            ],
            [
             0.6666666666666666,
             "#ed7953"
            ],
            [
             0.7777777777777778,
             "#fb9f3a"
            ],
            [
             0.8888888888888888,
             "#fdca26"
            ],
            [
             1,
             "#f0f921"
            ]
           ]
          },
          "colorway": [
           "#636efa",
           "#EF553B",
           "#00cc96",
           "#ab63fa",
           "#FFA15A",
           "#19d3f3",
           "#FF6692",
           "#B6E880",
           "#FF97FF",
           "#FECB52"
          ],
          "font": {
           "color": "#f2f5fa"
          },
          "geo": {
           "bgcolor": "rgb(17,17,17)",
           "lakecolor": "rgb(17,17,17)",
           "landcolor": "rgb(17,17,17)",
           "showlakes": true,
           "showland": true,
           "subunitcolor": "#506784"
          },
          "hoverlabel": {
           "align": "left"
          },
          "hovermode": "closest",
          "mapbox": {
           "style": "dark"
          },
          "paper_bgcolor": "rgb(17,17,17)",
          "plot_bgcolor": "rgb(17,17,17)",
          "polar": {
           "angularaxis": {
            "gridcolor": "#506784",
            "linecolor": "#506784",
            "ticks": ""
           },
           "bgcolor": "rgb(17,17,17)",
           "radialaxis": {
            "gridcolor": "#506784",
            "linecolor": "#506784",
            "ticks": ""
           }
          },
          "scene": {
           "xaxis": {
            "backgroundcolor": "rgb(17,17,17)",
            "gridcolor": "#506784",
            "gridwidth": 2,
            "linecolor": "#506784",
            "showbackground": true,
            "ticks": "",
            "zerolinecolor": "#C8D4E3"
           },
           "yaxis": {
            "backgroundcolor": "rgb(17,17,17)",
            "gridcolor": "#506784",
            "gridwidth": 2,
            "linecolor": "#506784",
            "showbackground": true,
            "ticks": "",
            "zerolinecolor": "#C8D4E3"
           },
           "zaxis": {
            "backgroundcolor": "rgb(17,17,17)",
            "gridcolor": "#506784",
            "gridwidth": 2,
            "linecolor": "#506784",
            "showbackground": true,
            "ticks": "",
            "zerolinecolor": "#C8D4E3"
           }
          },
          "shapedefaults": {
           "line": {
            "color": "#f2f5fa"
           }
          },
          "sliderdefaults": {
           "bgcolor": "#C8D4E3",
           "bordercolor": "rgb(17,17,17)",
           "borderwidth": 1,
           "tickwidth": 0
          },
          "ternary": {
           "aaxis": {
            "gridcolor": "#506784",
            "linecolor": "#506784",
            "ticks": ""
           },
           "baxis": {
            "gridcolor": "#506784",
            "linecolor": "#506784",
            "ticks": ""
           },
           "bgcolor": "rgb(17,17,17)",
           "caxis": {
            "gridcolor": "#506784",
            "linecolor": "#506784",
            "ticks": ""
           }
          },
          "title": {
           "x": 0.05
          },
          "updatemenudefaults": {
           "bgcolor": "#506784",
           "borderwidth": 0
          },
          "xaxis": {
           "automargin": true,
           "gridcolor": "#283442",
           "linecolor": "#506784",
           "ticks": "",
           "title": {
            "standoff": 15
           },
           "zerolinecolor": "#283442",
           "zerolinewidth": 2
          },
          "yaxis": {
           "automargin": true,
           "gridcolor": "#283442",
           "linecolor": "#506784",
           "ticks": "",
           "title": {
            "standoff": 15
           },
           "zerolinecolor": "#283442",
           "zerolinewidth": 2
          }
         }
        },
        "title": {
         "text": "How Product Categories compare in Revenue & Quantity Ordered by Product"
        },
        "xaxis": {
         "anchor": "y",
         "domain": [
          0,
          1
         ],
         "tickformat": ".2f",
         "title": {
          "text": "Revenue (in millions)"
         }
        },
        "yaxis": {
         "anchor": "x",
         "domain": [
          0,
          1
         ],
         "title": {
          "text": "Quantity Ordered(k=1000)"
         }
        }
       }
      },
      "text/html": [
       "<div>                            <div id=\"5a9496b8-78fa-4c3a-823d-3f584226aad3\" class=\"plotly-graph-div\" style=\"height:525px; width:100%;\"></div>            <script type=\"text/javascript\">                require([\"plotly\"], function(Plotly) {                    window.PLOTLYENV=window.PLOTLYENV || {};                                    if (document.getElementById(\"5a9496b8-78fa-4c3a-823d-3f584226aad3\")) {                    Plotly.newPlot(                        \"5a9496b8-78fa-4c3a-823d-3f584226aad3\",                        [{\"hovertemplate\":\"Revenue (in millions)=%{x}<br>Quantity Ordered(k=1000)=%{y}<br>Product=%{text}<extra></extra>\",\"legendgroup\":\"\",\"marker\":{\"color\":\"#636efa\",\"symbol\":\"circle\"},\"mode\":\"markers+text\",\"name\":\"\",\"orientation\":\"v\",\"showlegend\":false,\"text\":[\"20in Monitor\",\"27in 4K Gaming Monitor\",\"27in FHD Monitor\",\"34in Ultrawide Monitor\",\"AA Batteries (4-pack)\",\"AAA Batteries (4-pack)\",\"Apple Airpods Headphones\",\"Bose SoundSport Headphones\",\"Flatscreen TV\",\"Google Phone\",\"LG Dryer\",\"LG Washing Machine\",\"Lightning Charging Cable\",\"Macbook Pro Laptop\",\"ThinkPad Laptop\",\"USB-C Charging Cable\",\"Vareebadd Phone\",\"Wired Headphones\",\"iPhone\"],\"x\":[391014.44999999995,2098146.2,986334.2400000001,2030666.56,91783.68,79979.51000000001,2034450.0,1160783.91,1245000.0,2887800.0,336000.0,351600.0,300285.7,6937700.0,3588964.11,247137.94999999998,713200.0,213242.15,4157300.0],\"xaxis\":\"x\",\"y\":[3555,5380,6576,5344,23902,26749,13563,11609,4150,4813,560,586,20086,4081,3589,20681,1783,17785,5939],\"yaxis\":\"y\",\"type\":\"scatter\",\"textposition\":\"top center\"}],                        {\"template\":{\"data\":{\"barpolar\":[{\"marker\":{\"line\":{\"color\":\"rgb(17,17,17)\",\"width\":0.5},\"pattern\":{\"fillmode\":\"overlay\",\"size\":10,\"solidity\":0.2}},\"type\":\"barpolar\"}],\"bar\":[{\"error_x\":{\"color\":\"#f2f5fa\"},\"error_y\":{\"color\":\"#f2f5fa\"},\"marker\":{\"line\":{\"color\":\"rgb(17,17,17)\",\"width\":0.5},\"pattern\":{\"fillmode\":\"overlay\",\"size\":10,\"solidity\":0.2}},\"type\":\"bar\"}],\"carpet\":[{\"aaxis\":{\"endlinecolor\":\"#A2B1C6\",\"gridcolor\":\"#506784\",\"linecolor\":\"#506784\",\"minorgridcolor\":\"#506784\",\"startlinecolor\":\"#A2B1C6\"},\"baxis\":{\"endlinecolor\":\"#A2B1C6\",\"gridcolor\":\"#506784\",\"linecolor\":\"#506784\",\"minorgridcolor\":\"#506784\",\"startlinecolor\":\"#A2B1C6\"},\"type\":\"carpet\"}],\"choropleth\":[{\"colorbar\":{\"outlinewidth\":0,\"ticks\":\"\"},\"type\":\"choropleth\"}],\"contourcarpet\":[{\"colorbar\":{\"outlinewidth\":0,\"ticks\":\"\"},\"type\":\"contourcarpet\"}],\"contour\":[{\"colorbar\":{\"outlinewidth\":0,\"ticks\":\"\"},\"colorscale\":[[0.0,\"#0d0887\"],[0.1111111111111111,\"#46039f\"],[0.2222222222222222,\"#7201a8\"],[0.3333333333333333,\"#9c179e\"],[0.4444444444444444,\"#bd3786\"],[0.5555555555555556,\"#d8576b\"],[0.6666666666666666,\"#ed7953\"],[0.7777777777777778,\"#fb9f3a\"],[0.8888888888888888,\"#fdca26\"],[1.0,\"#f0f921\"]],\"type\":\"contour\"}],\"heatmapgl\":[{\"colorbar\":{\"outlinewidth\":0,\"ticks\":\"\"},\"colorscale\":[[0.0,\"#0d0887\"],[0.1111111111111111,\"#46039f\"],[0.2222222222222222,\"#7201a8\"],[0.3333333333333333,\"#9c179e\"],[0.4444444444444444,\"#bd3786\"],[0.5555555555555556,\"#d8576b\"],[0.6666666666666666,\"#ed7953\"],[0.7777777777777778,\"#fb9f3a\"],[0.8888888888888888,\"#fdca26\"],[1.0,\"#f0f921\"]],\"type\":\"heatmapgl\"}],\"heatmap\":[{\"colorbar\":{\"outlinewidth\":0,\"ticks\":\"\"},\"colorscale\":[[0.0,\"#0d0887\"],[0.1111111111111111,\"#46039f\"],[0.2222222222222222,\"#7201a8\"],[0.3333333333333333,\"#9c179e\"],[0.4444444444444444,\"#bd3786\"],[0.5555555555555556,\"#d8576b\"],[0.6666666666666666,\"#ed7953\"],[0.7777777777777778,\"#fb9f3a\"],[0.8888888888888888,\"#fdca26\"],[1.0,\"#f0f921\"]],\"type\":\"heatmap\"}],\"histogram2dcontour\":[{\"colorbar\":{\"outlinewidth\":0,\"ticks\":\"\"},\"colorscale\":[[0.0,\"#0d0887\"],[0.1111111111111111,\"#46039f\"],[0.2222222222222222,\"#7201a8\"],[0.3333333333333333,\"#9c179e\"],[0.4444444444444444,\"#bd3786\"],[0.5555555555555556,\"#d8576b\"],[0.6666666666666666,\"#ed7953\"],[0.7777777777777778,\"#fb9f3a\"],[0.8888888888888888,\"#fdca26\"],[1.0,\"#f0f921\"]],\"type\":\"histogram2dcontour\"}],\"histogram2d\":[{\"colorbar\":{\"outlinewidth\":0,\"ticks\":\"\"},\"colorscale\":[[0.0,\"#0d0887\"],[0.1111111111111111,\"#46039f\"],[0.2222222222222222,\"#7201a8\"],[0.3333333333333333,\"#9c179e\"],[0.4444444444444444,\"#bd3786\"],[0.5555555555555556,\"#d8576b\"],[0.6666666666666666,\"#ed7953\"],[0.7777777777777778,\"#fb9f3a\"],[0.8888888888888888,\"#fdca26\"],[1.0,\"#f0f921\"]],\"type\":\"histogram2d\"}],\"histogram\":[{\"marker\":{\"pattern\":{\"fillmode\":\"overlay\",\"size\":10,\"solidity\":0.2}},\"type\":\"histogram\"}],\"mesh3d\":[{\"colorbar\":{\"outlinewidth\":0,\"ticks\":\"\"},\"type\":\"mesh3d\"}],\"parcoords\":[{\"line\":{\"colorbar\":{\"outlinewidth\":0,\"ticks\":\"\"}},\"type\":\"parcoords\"}],\"pie\":[{\"automargin\":true,\"type\":\"pie\"}],\"scatter3d\":[{\"line\":{\"colorbar\":{\"outlinewidth\":0,\"ticks\":\"\"}},\"marker\":{\"colorbar\":{\"outlinewidth\":0,\"ticks\":\"\"}},\"type\":\"scatter3d\"}],\"scattercarpet\":[{\"marker\":{\"colorbar\":{\"outlinewidth\":0,\"ticks\":\"\"}},\"type\":\"scattercarpet\"}],\"scattergeo\":[{\"marker\":{\"colorbar\":{\"outlinewidth\":0,\"ticks\":\"\"}},\"type\":\"scattergeo\"}],\"scattergl\":[{\"marker\":{\"line\":{\"color\":\"#283442\"}},\"type\":\"scattergl\"}],\"scattermapbox\":[{\"marker\":{\"colorbar\":{\"outlinewidth\":0,\"ticks\":\"\"}},\"type\":\"scattermapbox\"}],\"scatterpolargl\":[{\"marker\":{\"colorbar\":{\"outlinewidth\":0,\"ticks\":\"\"}},\"type\":\"scatterpolargl\"}],\"scatterpolar\":[{\"marker\":{\"colorbar\":{\"outlinewidth\":0,\"ticks\":\"\"}},\"type\":\"scatterpolar\"}],\"scatter\":[{\"marker\":{\"line\":{\"color\":\"#283442\"}},\"type\":\"scatter\"}],\"scatterternary\":[{\"marker\":{\"colorbar\":{\"outlinewidth\":0,\"ticks\":\"\"}},\"type\":\"scatterternary\"}],\"surface\":[{\"colorbar\":{\"outlinewidth\":0,\"ticks\":\"\"},\"colorscale\":[[0.0,\"#0d0887\"],[0.1111111111111111,\"#46039f\"],[0.2222222222222222,\"#7201a8\"],[0.3333333333333333,\"#9c179e\"],[0.4444444444444444,\"#bd3786\"],[0.5555555555555556,\"#d8576b\"],[0.6666666666666666,\"#ed7953\"],[0.7777777777777778,\"#fb9f3a\"],[0.8888888888888888,\"#fdca26\"],[1.0,\"#f0f921\"]],\"type\":\"surface\"}],\"table\":[{\"cells\":{\"fill\":{\"color\":\"#506784\"},\"line\":{\"color\":\"rgb(17,17,17)\"}},\"header\":{\"fill\":{\"color\":\"#2a3f5f\"},\"line\":{\"color\":\"rgb(17,17,17)\"}},\"type\":\"table\"}]},\"layout\":{\"annotationdefaults\":{\"arrowcolor\":\"#f2f5fa\",\"arrowhead\":0,\"arrowwidth\":1},\"autotypenumbers\":\"strict\",\"coloraxis\":{\"colorbar\":{\"outlinewidth\":0,\"ticks\":\"\"}},\"colorscale\":{\"diverging\":[[0,\"#8e0152\"],[0.1,\"#c51b7d\"],[0.2,\"#de77ae\"],[0.3,\"#f1b6da\"],[0.4,\"#fde0ef\"],[0.5,\"#f7f7f7\"],[0.6,\"#e6f5d0\"],[0.7,\"#b8e186\"],[0.8,\"#7fbc41\"],[0.9,\"#4d9221\"],[1,\"#276419\"]],\"sequential\":[[0.0,\"#0d0887\"],[0.1111111111111111,\"#46039f\"],[0.2222222222222222,\"#7201a8\"],[0.3333333333333333,\"#9c179e\"],[0.4444444444444444,\"#bd3786\"],[0.5555555555555556,\"#d8576b\"],[0.6666666666666666,\"#ed7953\"],[0.7777777777777778,\"#fb9f3a\"],[0.8888888888888888,\"#fdca26\"],[1.0,\"#f0f921\"]],\"sequentialminus\":[[0.0,\"#0d0887\"],[0.1111111111111111,\"#46039f\"],[0.2222222222222222,\"#7201a8\"],[0.3333333333333333,\"#9c179e\"],[0.4444444444444444,\"#bd3786\"],[0.5555555555555556,\"#d8576b\"],[0.6666666666666666,\"#ed7953\"],[0.7777777777777778,\"#fb9f3a\"],[0.8888888888888888,\"#fdca26\"],[1.0,\"#f0f921\"]]},\"colorway\":[\"#636efa\",\"#EF553B\",\"#00cc96\",\"#ab63fa\",\"#FFA15A\",\"#19d3f3\",\"#FF6692\",\"#B6E880\",\"#FF97FF\",\"#FECB52\"],\"font\":{\"color\":\"#f2f5fa\"},\"geo\":{\"bgcolor\":\"rgb(17,17,17)\",\"lakecolor\":\"rgb(17,17,17)\",\"landcolor\":\"rgb(17,17,17)\",\"showlakes\":true,\"showland\":true,\"subunitcolor\":\"#506784\"},\"hoverlabel\":{\"align\":\"left\"},\"hovermode\":\"closest\",\"mapbox\":{\"style\":\"dark\"},\"paper_bgcolor\":\"rgb(17,17,17)\",\"plot_bgcolor\":\"rgb(17,17,17)\",\"polar\":{\"angularaxis\":{\"gridcolor\":\"#506784\",\"linecolor\":\"#506784\",\"ticks\":\"\"},\"bgcolor\":\"rgb(17,17,17)\",\"radialaxis\":{\"gridcolor\":\"#506784\",\"linecolor\":\"#506784\",\"ticks\":\"\"}},\"scene\":{\"xaxis\":{\"backgroundcolor\":\"rgb(17,17,17)\",\"gridcolor\":\"#506784\",\"gridwidth\":2,\"linecolor\":\"#506784\",\"showbackground\":true,\"ticks\":\"\",\"zerolinecolor\":\"#C8D4E3\"},\"yaxis\":{\"backgroundcolor\":\"rgb(17,17,17)\",\"gridcolor\":\"#506784\",\"gridwidth\":2,\"linecolor\":\"#506784\",\"showbackground\":true,\"ticks\":\"\",\"zerolinecolor\":\"#C8D4E3\"},\"zaxis\":{\"backgroundcolor\":\"rgb(17,17,17)\",\"gridcolor\":\"#506784\",\"gridwidth\":2,\"linecolor\":\"#506784\",\"showbackground\":true,\"ticks\":\"\",\"zerolinecolor\":\"#C8D4E3\"}},\"shapedefaults\":{\"line\":{\"color\":\"#f2f5fa\"}},\"sliderdefaults\":{\"bgcolor\":\"#C8D4E3\",\"bordercolor\":\"rgb(17,17,17)\",\"borderwidth\":1,\"tickwidth\":0},\"ternary\":{\"aaxis\":{\"gridcolor\":\"#506784\",\"linecolor\":\"#506784\",\"ticks\":\"\"},\"baxis\":{\"gridcolor\":\"#506784\",\"linecolor\":\"#506784\",\"ticks\":\"\"},\"bgcolor\":\"rgb(17,17,17)\",\"caxis\":{\"gridcolor\":\"#506784\",\"linecolor\":\"#506784\",\"ticks\":\"\"}},\"title\":{\"x\":0.05},\"updatemenudefaults\":{\"bgcolor\":\"#506784\",\"borderwidth\":0},\"xaxis\":{\"automargin\":true,\"gridcolor\":\"#283442\",\"linecolor\":\"#506784\",\"ticks\":\"\",\"title\":{\"standoff\":15},\"zerolinecolor\":\"#283442\",\"zerolinewidth\":2},\"yaxis\":{\"automargin\":true,\"gridcolor\":\"#283442\",\"linecolor\":\"#506784\",\"ticks\":\"\",\"title\":{\"standoff\":15},\"zerolinecolor\":\"#283442\",\"zerolinewidth\":2}}},\"xaxis\":{\"anchor\":\"y\",\"domain\":[0.0,1.0],\"title\":{\"text\":\"Revenue (in millions)\"},\"tickformat\":\".2f\"},\"yaxis\":{\"anchor\":\"x\",\"domain\":[0.0,1.0],\"title\":{\"text\":\"Quantity Ordered(k=1000)\"}},\"legend\":{\"tracegroupgap\":0},\"title\":{\"text\":\"How Product Categories compare in Revenue & Quantity Ordered by Product\"}},                        {\"responsive\": true}                    ).then(function(){\n",
       "                            \n",
       "var gd = document.getElementById('5a9496b8-78fa-4c3a-823d-3f584226aad3');\n",
       "var x = new MutationObserver(function (mutations, observer) {{\n",
       "        var display = window.getComputedStyle(gd).display;\n",
       "        if (!display || display === 'none') {{\n",
       "            console.log([gd, 'removed!']);\n",
       "            Plotly.purge(gd);\n",
       "            observer.disconnect();\n",
       "        }}\n",
       "}});\n",
       "\n",
       "// Listen for the removal of the full notebook cells\n",
       "var notebookContainer = gd.closest('#notebook-container');\n",
       "if (notebookContainer) {{\n",
       "    x.observe(notebookContainer, {childList: true});\n",
       "}}\n",
       "\n",
       "// Listen for the clearing of the current output cell\n",
       "var outputEl = gd.closest('.output');\n",
       "if (outputEl) {{\n",
       "    x.observe(outputEl, {childList: true});\n",
       "}}\n",
       "\n",
       "                        })                };                });            </script>        </div>"
      ]
     },
     "metadata": {},
     "output_type": "display_data"
    }
   ],
   "source": [
    "# Visualize \n",
    "product_data = pd.DataFrame({'Revenue': product_category_sum, 'Quantity Ordered': product_category_orders})\n",
    "\n",
    "# Create an interactive scatter plot with Plotly\n",
    "fig = px.scatter(product_data, x='Revenue', y='Quantity Ordered', text=product_data.index, \n",
    "                 title=\"How Product Categories compare in Revenue & Quantity Ordered by Product\",\n",
    "                 labels={'Revenue': 'Revenue (in millions)', 'Quantity Ordered': 'Quantity Ordered(k=1000)'},\n",
    "                 template=\"plotly_dark\")\n",
    "\n",
    "# Show the plot with product names displayed on hover\n",
    "fig.update_traces(textposition='top center')\n",
    "fig.update_xaxes(tickformat=\".2f\")\n",
    "\n",
    "fig.show()"
   ]
  },
  {
   "cell_type": "markdown",
   "metadata": {},
   "source": [
    "##### 7. How many products were sold in the year?\n"
   ]
  },
  {
   "cell_type": "code",
   "execution_count": 130,
   "metadata": {},
   "outputs": [
    {
     "name": "stdout",
     "output_type": "stream",
     "text": [
      "The number of products sold by the company in the year 2019 is 180731\n"
     ]
    }
   ],
   "source": [
    "# Find the sum of Quantities ordered\n",
    "quantities_sum = df['Quantity Ordered'].sum()\n",
    "\n",
    "print(f'The number of products sold by the company in the year 2019 is {quantities_sum}')"
   ]
  },
  {
   "cell_type": "markdown",
   "metadata": {},
   "source": [
    "##### 8. How many orders were made in the whole year?"
   ]
  },
  {
   "cell_type": "code",
   "execution_count": 132,
   "metadata": {},
   "outputs": [
    {
     "name": "stdout",
     "output_type": "stream",
     "text": [
      "The total number of orders made in the year 2019 is 160737\n"
     ]
    }
   ],
   "source": [
    "# Find the sum of rows or entries\n",
    "entries_sum = df.shape[0]\n",
    "\n",
    "print(f'The total number of orders made in the year 2019 is {entries_sum}')"
   ]
  },
  {
   "cell_type": "markdown",
   "metadata": {},
   "source": [
    "##### 9. How did high-level products do against basic level products?"
   ]
  },
  {
   "cell_type": "code",
   "execution_count": 137,
   "metadata": {},
   "outputs": [
    {
     "data": {
      "text/html": [
       "<div>\n",
       "<style scoped>\n",
       "    .dataframe tbody tr th:only-of-type {\n",
       "        vertical-align: middle;\n",
       "    }\n",
       "\n",
       "    .dataframe tbody tr th {\n",
       "        vertical-align: top;\n",
       "    }\n",
       "\n",
       "    .dataframe thead th {\n",
       "        text-align: right;\n",
       "    }\n",
       "</style>\n",
       "<table border=\"1\" class=\"dataframe\">\n",
       "  <thead>\n",
       "    <tr style=\"text-align: right;\">\n",
       "      <th></th>\n",
       "      <th>Product Class</th>\n",
       "      <th>Quantity Ordered</th>\n",
       "    </tr>\n",
       "  </thead>\n",
       "  <tbody>\n",
       "    <tr>\n",
       "      <th>0</th>\n",
       "      <td>basic level</td>\n",
       "      <td>120812</td>\n",
       "    </tr>\n",
       "    <tr>\n",
       "      <th>1</th>\n",
       "      <td>high-level</td>\n",
       "      <td>59919</td>\n",
       "    </tr>\n",
       "  </tbody>\n",
       "</table>\n",
       "</div>"
      ],
      "text/plain": [
       "  Product Class  Quantity Ordered\n",
       "0   basic level            120812\n",
       "1    high-level             59919"
      ]
     },
     "execution_count": 137,
     "metadata": {},
     "output_type": "execute_result"
    }
   ],
   "source": [
    "# Find the quantities of high-level and basic level products sold\n",
    "prod_class = df.groupby('Product Class')['Quantity Ordered'].sum().reset_index()\n",
    "prod_class"
   ]
  },
  {
   "cell_type": "code",
   "execution_count": 138,
   "metadata": {},
   "outputs": [
    {
     "data": {
      "image/png": "[encoded data removed]",
      "text/plain": [
       "<Figure size 576x432 with 1 Axes>"
      ]
     },
     "metadata": {},
     "output_type": "display_data"
    }
   ],
   "source": [
    "# Create a bar plot to show the quantities sold for each product class\n",
    "plt.figure(figsize=(8, 6))\n",
    "sns.barplot(x='Product Class', y='Quantity Ordered', data=prod_class, palette=\"viridis\")\n",
    "plt.title(\"Quantities Sold by Product Class\")\n",
    "plt.xlabel(\"Product Class\")\n",
    "plt.ylabel(\"Quantity Ordered\")\n",
    "\n",
    "# Annotate the bars with their values\n",
    "for index, row in prod_class.iterrows():\n",
    "    plt.text(index, row['Quantity Ordered'], f\"{row['Quantity Ordered']}\", color='black', ha=\"center\")\n",
    "\n",
    "plt.show()"
   ]
  },
  {
   "cell_type": "markdown",
   "metadata": {},
   "source": [
    "From the plot above, it is clear that basic level products sold more in terms of quantities than high-level products"
   ]
  },
  {
   "cell_type": "code",
   "execution_count": null,
   "metadata": {},
   "outputs": [],
   "source": []
  }
 ],
 "metadata": {
  "kernelspec": {
   "display_name": "Python 3 (ipykernel)",
   "language": "python",
   "name": "python3"
  },
  "language_info": {
   "codemirror_mode": {
    "name": "ipython",
    "version": 3
   },
   "file_extension": ".py",
   "mimetype": "text/x-python",
   "name": "python",
   "nbconvert_exporter": "python",
   "pygments_lexer": "ipython3",
   "version": "3.11.4"
  }
 },
 "nbformat": 4,
 "nbformat_minor": 4
}
